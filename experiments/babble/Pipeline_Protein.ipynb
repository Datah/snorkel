{
 "cells": [
  {
   "cell_type": "code",
   "execution_count": 1,
   "metadata": {
    "collapsed": false
   },
   "outputs": [],
   "source": [
    "%load_ext autoreload\n",
    "%autoreload 2"
   ]
  },
  {
   "cell_type": "code",
   "execution_count": 2,
   "metadata": {
    "collapsed": false
   },
   "outputs": [],
   "source": [
    "config = {\n",
    "    'domain': 'protein',\n",
    "    'supervision': 'generative',\n",
    "    'traditional_split': 1,\n",
    "    'disc_model_class': 'logreg',\n",
    "    'display_learned_accuracies': True,\n",
    "}"
   ]
  },
  {
   "cell_type": "code",
   "execution_count": 3,
   "metadata": {
    "collapsed": false
   },
   "outputs": [
    {
     "name": "stdout",
     "output_type": "stream",
     "text": [
      "$SNORKELDB = sqlite:///babble_protein.db\n"
     ]
    }
   ],
   "source": [
    "# Get DB connection string and add to globals\n",
    "# NOTE: $SNORKELDB must be set before any snorkel imports\n",
    "import os\n",
    "\n",
    "default_db_name = 'babble_' + config['domain'] + ('_debug' if config.get('debug', False) else '')\n",
    "DB_NAME = config.get('db_name', default_db_name)\n",
    "if 'postgres' in config and config['postgres']:\n",
    "    DB_TYPE = 'postgres'\n",
    "else:\n",
    "    DB_TYPE = 'sqlite'\n",
    "    DB_NAME += '.db'\n",
    "DB_ADDR = \"localhost:{0}\".format(config['db_port']) if 'db_port' in config else \"\"\n",
    "os.environ['SNORKELDB'] = '{0}://{1}/{2}'.format(DB_TYPE, DB_ADDR, DB_NAME)\n",
    "print(\"$SNORKELDB = {0}\".format(os.environ['SNORKELDB']))"
   ]
  },
  {
   "cell_type": "code",
   "execution_count": 4,
   "metadata": {
    "collapsed": false,
    "scrolled": false
   },
   "outputs": [
    {
     "name": "stdout",
     "output_type": "stream",
     "text": [
      "Overwriting gen_f_beta=0.5 to gen_f_beta=1.0\n",
      "Overwriting domain=None to domain=protein\n",
      "Overwriting babbler_candidate_split=1 to babbler_candidate_split=[0, 1, 2]\n",
      "Overwriting disc_model_class=lstm to disc_model_class=logreg\n",
      "Overwriting display_learned_accuracies=False to display_learned_accuracies=True\n",
      "Overwriting traditional_split=0 to traditional_split=1\n"
     ]
    }
   ],
   "source": [
    "from snorkel import SnorkelSession\n",
    "session = SnorkelSession()\n",
    "\n",
    "# Resolve config conflicts (nb_config > local_config > global_config)\n",
    "from snorkel.contrib.babble.pipelines import merge_configs, get_local_pipeline\n",
    "config = merge_configs(config)\n",
    "\n",
    "if config['debug']:\n",
    "    print(\"NOTE: --debug=True: modifying parameters...\")\n",
    "    config['max_docs'] = 100\n",
    "    config['gen_model_search_space'] = 1\n",
    "    config['disc_model_search_space'] = 1\n",
    "    config['gen_params_default']['epochs'] = 25\n",
    "    config['disc_params_default']['n_epochs'] = 5\n",
    "\n",
    "from snorkel.models import candidate_subclass\n",
    "candidate_class = candidate_subclass(config['candidate_name'], config['candidate_entities'])\n",
    "\n",
    "pipeline = get_local_pipeline(config['domain'])\n",
    "pipe = pipeline(session, candidate_class, config)"
   ]
  },
  {
   "cell_type": "code",
   "execution_count": 5,
   "metadata": {
    "collapsed": false
   },
   "outputs": [
    {
     "data": {
      "text/plain": [
       "4735"
      ]
     },
     "execution_count": 5,
     "metadata": {},
     "output_type": "execute_result"
    }
   ],
   "source": [
    "from snorkel.models import Document\n",
    "\n",
    "session.query(Document).count()"
   ]
  },
  {
   "cell_type": "code",
   "execution_count": 6,
   "metadata": {
    "collapsed": false
   },
   "outputs": [
    {
     "name": "stdout",
     "output_type": "stream",
     "text": [
      "5546\n",
      "1011\n",
      "1058\n"
     ]
    }
   ],
   "source": [
    "for split in [0,1,2]:\n",
    "    print(session.query(pipe.candidate_class).filter(\n",
    "        pipe.candidate_class.split == split).count())"
   ]
  },
  {
   "cell_type": "code",
   "execution_count": 7,
   "metadata": {
    "collapsed": false,
    "scrolled": true
   },
   "outputs": [],
   "source": [
    "# %time pipe.parse()"
   ]
  },
  {
   "cell_type": "code",
   "execution_count": 8,
   "metadata": {
    "collapsed": false,
    "scrolled": true
   },
   "outputs": [],
   "source": [
    "# %time pipe.extract()"
   ]
  },
  {
   "cell_type": "code",
   "execution_count": 9,
   "metadata": {
    "collapsed": false,
    "scrolled": false
   },
   "outputs": [],
   "source": [
    "# %time pipe.load_gold()"
   ]
  },
  {
   "cell_type": "code",
   "execution_count": 10,
   "metadata": {
    "collapsed": false
   },
   "outputs": [],
   "source": [
    "# %time pipe.featurize()"
   ]
  },
  {
   "cell_type": "code",
   "execution_count": 11,
   "metadata": {
    "collapsed": false,
    "scrolled": false
   },
   "outputs": [
    {
     "name": "stdout",
     "output_type": "stream",
     "text": [
      "Linking candidates...\n",
      "# CANDIDATES: 7615\n",
      "Building list of target candidate ids...\n",
      "Collected 29 unique target candidate ids from 30 explanations.\n",
      "Gathering desired candidates...\n",
      "Found 29/29 desired candidates\n",
      "Linking explanations to candidates...\n",
      "Linked 30/30 explanations\n",
      "Calling babbler...\n",
      "Created grammar with 598 rules\n",
      "WARNING: Number of candidates (1011) does not equal the number of pos (220) + neg (779) = 999 labels.\n",
      "Flushing all parses from previous explanation set.\n",
      "[========================================] 100%\n",
      "\n",
      "22 explanation(s) out of 30 were parseable.\n",
      "104 parse(s) generated from 30 explanation(s).\n",
      "70 parse(s) remain (34 parse(s) removed by DuplicateSemanticsFilter).\n",
      "32 parse(s) remain (38 parse(s) removed by ConsistencyFilter).\n",
      "### Applying labeling functions to split 1\n",
      "[========================================] 100%\n",
      "\n",
      "### Done in 6.0s.\n",
      "\n",
      "32 parse(s) remain (0 parse(s) removed by UniformSignatureFilter: (0 None, 0 All)).\n",
      "19 parse(s) remain (13 parse(s) removed by DuplicateSignatureFilter).\n",
      "Added 19 parse(s) from 15 explanations to set. (Total # parses = 19)\n",
      "CPU times: user 2min 31s, sys: 2.52 s, total: 2min 34s\n",
      "Wall time: 2min 33s\n"
     ]
    }
   ],
   "source": [
    "%time pipe.collect()"
   ]
  },
  {
   "cell_type": "code",
   "execution_count": 12,
   "metadata": {
    "collapsed": false
   },
   "outputs": [
    {
     "data": {
      "text/plain": [
       "[Explanation(\"LF_activate_B: True, 'activ' is within 40 characters between Kinase and Protein \"),\n",
       " Explanation(\"LF_activates: True, sentence contains 'activates' and Kinase and Protein are less than 6 words apart.\"),\n",
       " Explanation(\"LF_between_before: True, the word 'between' is within 50 characters before the Protein or the Kinase and the word 'and' is within 40 characters between Protein and Kinase\"),\n",
       " Explanation(\"LF_close_I: True, the number of words between Kinase and Protein is less than 6 and the sentence contains at least one of the int_ind words is in the sentence and none of the negative words are in the sentence and the order of appearance in the sentence is Kinase, Protein and Kinase and Protein are not separated by 'and', 'or', ',' \"),\n",
       " Explanation(\"LF_dist_sup: True, The Kinase and Protein pair correspond to pairs in the list known_targets and the order of appearance in the sentence is Kinase, Protein and Kinase and Protein are separated by less than 8 words\"),\n",
       " Explanation(\"LF_induc: False, the sentence contains 'induc'.\"),\n",
       " Explanation(\"LF_influence_B: True, 'influenc' within 100 characters between Protein and Kinase\"),\n",
       " Explanation(\"LF_interact_in_sentence: True, sentence contains 'interact' and the number of words between Protein and Kinase is smaller than 8\"),\n",
       " Explanation(\"LF_interaction: True, Sentence contains one or more of interaction_indicators words and Kinase and Protein are less than 8 words apart and none of the neg_ind words are in the sentence and 'induc', 'sequenc', and 'activ' are not in the sentence. \"),\n",
       " Explanation(\"LF_levels: False, the word 'level' appears in the sentence\"),\n",
       " Explanation(\"LF_no_B: False, A negative word is within 100 characters between Protein and Kinase\"),\n",
       " Explanation(\"LF_regulate_Betw: True, 'regulat' is within 100 characters between Kinase and Protein \"),\n",
       " Explanation(\"LF_substrate_B_I: True, the word 'substrate' is between Protein and Kinase and the total number of words between Protein and Kinase is smaller than 8\"),\n",
       " Explanation(\"LF_transfect: False, 'transfect' is in the sentence.\"),\n",
       " Explanation(\"LF_sequenc_in_sentence: False, the sentence contains 'sequenc'\")]"
      ]
     },
     "execution_count": 12,
     "metadata": {},
     "output_type": "execute_result"
    }
   ],
   "source": [
    "pipe.babbler.get_explanations()"
   ]
  },
  {
   "cell_type": "code",
   "execution_count": 13,
   "metadata": {
    "collapsed": false
   },
   "outputs": [
    {
     "data": {
      "text/plain": [
       "[\"return 1 if 'activ'.(all([in(text(within 40 chars of X)),in(text(within 40 chars of Y))])) else 0\",\n",
       " \"return 1 if (text(the sentence).contains('activates') and text(X).in(text(less than 6 word(s) to the right of Y))) else 0\",\n",
       " \"return 1 if ('between'.in(text(exactly 50 chars to the left of X)) or all([s.(all([in(text(within 40 chars of X)),in(text(within 40 chars of Y))])) for s in [text(Y),'and']])) else 0\",\n",
       " \"return 1 if ('between'.in(text(exactly 50 chars to the left of X)) or 'and'[0].(all([in(text(within 40 chars of X)),in(text(within 40 chars of Y))]))) else 0\",\n",
       " \"return 1 if ('between'.in(text(no more than 50 chars to the left of X)) or all([s.(all([in(text(within 40 chars of X)),in(text(within 40 chars of Y))])) for s in [text(Y),'and']])) else 0\",\n",
       " \"return 1 if ('between'.in(text(no more than 50 chars to the left of X)) or 'and'[0].(all([in(text(within 40 chars of X)),in(text(within 40 chars of Y))]))) else 0\",\n",
       " \"return 1 if (count(between([X,Y])).(< 6) and (sum([s.in(text(the sentence)) for s in user_list('int_ind')]).(>= 1) and (not any([s.in(text(the sentence)) for s in user_list('negative')]) and (all([s.in(text(the sentence)) for s in [text(Y),text(X),text(Y)]]) and text(X).(!= 'and or'))))) else 0\",\n",
       " \"return 1 if (all([s.(.in(u) for at least one u in user_list('known_targets')) for s in [text(Y),text(X)]]) and all([s.in(text(the sentence)) for s in [text(Y),text(X),text(Y)]])) else 0\",\n",
       " \"return -1 if text(the sentence).contains('induc') else 0\",\n",
       " \"return 1 if 'influenc'.(all([in(text(within 100 chars of X)),in(text(within 100 chars of Y))])) else 0\",\n",
       " \"return 1 if (text(the sentence).contains('interact') and count(between([X,Y])).(< 8)) else 0\",\n",
       " \"return 1 if (text(Y).in(text(less than 8 word(s) to the right of X)) and (not any([s.in(text(the sentence)) for s in user_list('neg_ind')]) and not (all_equal(['induc','sequenc','activ'])))) else 0\",\n",
       " \"return -1 if 'level'.in(text(the sentence)) else 0\",\n",
       " \"return -1 if any([s.(all([in(text(within 100 chars of X)),in(text(within 100 chars of Y))])) for s in user_list('negative')]) else 0\",\n",
       " 'return -1 if count([char(s) between([X,Y])]).(<= 100) else 0',\n",
       " \"return 1 if 'regulat'.(all([in(text(within 100 chars of X)),in(text(within 100 chars of Y))])) else 0\",\n",
       " \"return 1 if ('substrate'.in(text(between([X,Y]))) and count(between([X,Y])).(< 8)) else 0\",\n",
       " \"return -1 if 'transfect'.in(text(the sentence)) else 0\",\n",
       " \"return -1 if text(the sentence).contains('sequenc') else 0\"]"
      ]
     },
     "execution_count": 13,
     "metadata": {},
     "output_type": "execute_result"
    }
   ],
   "source": [
    "pipe.babbler.get_parses()"
   ]
  },
  {
   "cell_type": "code",
   "execution_count": 14,
   "metadata": {
    "collapsed": false,
    "scrolled": true
   },
   "outputs": [
    {
     "data": {
      "text/html": [
       "<div>\n",
       "<table border=\"1\" class=\"dataframe\">\n",
       "  <thead>\n",
       "    <tr style=\"text-align: right;\">\n",
       "      <th></th>\n",
       "      <th>j</th>\n",
       "      <th>Coverage</th>\n",
       "      <th>Overlaps</th>\n",
       "      <th>Conflicts</th>\n",
       "      <th>TP</th>\n",
       "      <th>FP</th>\n",
       "      <th>FN</th>\n",
       "      <th>TN</th>\n",
       "      <th>Empirical Acc.</th>\n",
       "    </tr>\n",
       "  </thead>\n",
       "  <tbody>\n",
       "    <tr>\n",
       "      <th>LF_activate_B_0</th>\n",
       "      <td>0</td>\n",
       "      <td>0.064293</td>\n",
       "      <td>0.059347</td>\n",
       "      <td>0.059347</td>\n",
       "      <td>23</td>\n",
       "      <td>41</td>\n",
       "      <td>0</td>\n",
       "      <td>0</td>\n",
       "      <td>0.359375</td>\n",
       "    </tr>\n",
       "    <tr>\n",
       "      <th>LF_activates_1</th>\n",
       "      <td>1</td>\n",
       "      <td>0.006924</td>\n",
       "      <td>0.006924</td>\n",
       "      <td>0.006924</td>\n",
       "      <td>6</td>\n",
       "      <td>1</td>\n",
       "      <td>0</td>\n",
       "      <td>0</td>\n",
       "      <td>0.857143</td>\n",
       "    </tr>\n",
       "    <tr>\n",
       "      <th>LF_between_before_0</th>\n",
       "      <td>2</td>\n",
       "      <td>0.261128</td>\n",
       "      <td>0.261128</td>\n",
       "      <td>0.258160</td>\n",
       "      <td>46</td>\n",
       "      <td>214</td>\n",
       "      <td>0</td>\n",
       "      <td>0</td>\n",
       "      <td>0.176923</td>\n",
       "    </tr>\n",
       "    <tr>\n",
       "      <th>LF_between_before_2</th>\n",
       "      <td>3</td>\n",
       "      <td>0.318497</td>\n",
       "      <td>0.318497</td>\n",
       "      <td>0.305638</td>\n",
       "      <td>50</td>\n",
       "      <td>268</td>\n",
       "      <td>0</td>\n",
       "      <td>0</td>\n",
       "      <td>0.157233</td>\n",
       "    </tr>\n",
       "    <tr>\n",
       "      <th>LF_between_before_4</th>\n",
       "      <td>4</td>\n",
       "      <td>0.271019</td>\n",
       "      <td>0.271019</td>\n",
       "      <td>0.263106</td>\n",
       "      <td>47</td>\n",
       "      <td>223</td>\n",
       "      <td>0</td>\n",
       "      <td>0</td>\n",
       "      <td>0.174074</td>\n",
       "    </tr>\n",
       "    <tr>\n",
       "      <th>LF_between_before_6</th>\n",
       "      <td>5</td>\n",
       "      <td>0.327399</td>\n",
       "      <td>0.327399</td>\n",
       "      <td>0.309594</td>\n",
       "      <td>51</td>\n",
       "      <td>276</td>\n",
       "      <td>0</td>\n",
       "      <td>0</td>\n",
       "      <td>0.155963</td>\n",
       "    </tr>\n",
       "    <tr>\n",
       "      <th>LF_close_I_0</th>\n",
       "      <td>6</td>\n",
       "      <td>0.117705</td>\n",
       "      <td>0.117705</td>\n",
       "      <td>0.117705</td>\n",
       "      <td>55</td>\n",
       "      <td>61</td>\n",
       "      <td>0</td>\n",
       "      <td>0</td>\n",
       "      <td>0.474138</td>\n",
       "    </tr>\n",
       "    <tr>\n",
       "      <th>LF_dist_sup_4</th>\n",
       "      <td>7</td>\n",
       "      <td>0.058358</td>\n",
       "      <td>0.055391</td>\n",
       "      <td>0.053412</td>\n",
       "      <td>21</td>\n",
       "      <td>38</td>\n",
       "      <td>0</td>\n",
       "      <td>0</td>\n",
       "      <td>0.355932</td>\n",
       "    </tr>\n",
       "    <tr>\n",
       "      <th>LF_induc_0</th>\n",
       "      <td>8</td>\n",
       "      <td>0.180020</td>\n",
       "      <td>0.160237</td>\n",
       "      <td>0.062315</td>\n",
       "      <td>0</td>\n",
       "      <td>0</td>\n",
       "      <td>21</td>\n",
       "      <td>161</td>\n",
       "      <td>0.884615</td>\n",
       "    </tr>\n",
       "    <tr>\n",
       "      <th>LF_influence_B_0</th>\n",
       "      <td>9</td>\n",
       "      <td>0.005935</td>\n",
       "      <td>0.005935</td>\n",
       "      <td>0.005935</td>\n",
       "      <td>2</td>\n",
       "      <td>4</td>\n",
       "      <td>0</td>\n",
       "      <td>0</td>\n",
       "      <td>0.333333</td>\n",
       "    </tr>\n",
       "    <tr>\n",
       "      <th>LF_interact_in_sentence_0</th>\n",
       "      <td>10</td>\n",
       "      <td>0.063304</td>\n",
       "      <td>0.063304</td>\n",
       "      <td>0.063304</td>\n",
       "      <td>41</td>\n",
       "      <td>21</td>\n",
       "      <td>0</td>\n",
       "      <td>0</td>\n",
       "      <td>0.661290</td>\n",
       "    </tr>\n",
       "    <tr>\n",
       "      <th>LF_interaction_4</th>\n",
       "      <td>11</td>\n",
       "      <td>0.132542</td>\n",
       "      <td>0.122651</td>\n",
       "      <td>0.117705</td>\n",
       "      <td>30</td>\n",
       "      <td>104</td>\n",
       "      <td>0</td>\n",
       "      <td>0</td>\n",
       "      <td>0.223881</td>\n",
       "    </tr>\n",
       "    <tr>\n",
       "      <th>LF_levels_0</th>\n",
       "      <td>12</td>\n",
       "      <td>0.057369</td>\n",
       "      <td>0.055391</td>\n",
       "      <td>0.019782</td>\n",
       "      <td>0</td>\n",
       "      <td>0</td>\n",
       "      <td>5</td>\n",
       "      <td>52</td>\n",
       "      <td>0.912281</td>\n",
       "    </tr>\n",
       "    <tr>\n",
       "      <th>LF_no_B_0</th>\n",
       "      <td>13</td>\n",
       "      <td>0.235410</td>\n",
       "      <td>0.212661</td>\n",
       "      <td>0.103858</td>\n",
       "      <td>0</td>\n",
       "      <td>0</td>\n",
       "      <td>43</td>\n",
       "      <td>190</td>\n",
       "      <td>0.815451</td>\n",
       "    </tr>\n",
       "    <tr>\n",
       "      <th>LF_no_B_4</th>\n",
       "      <td>14</td>\n",
       "      <td>0.792285</td>\n",
       "      <td>0.642928</td>\n",
       "      <td>0.477745</td>\n",
       "      <td>0</td>\n",
       "      <td>0</td>\n",
       "      <td>205</td>\n",
       "      <td>586</td>\n",
       "      <td>0.740834</td>\n",
       "    </tr>\n",
       "    <tr>\n",
       "      <th>LF_regulate_Betw_0</th>\n",
       "      <td>15</td>\n",
       "      <td>0.068249</td>\n",
       "      <td>0.062315</td>\n",
       "      <td>0.061325</td>\n",
       "      <td>26</td>\n",
       "      <td>43</td>\n",
       "      <td>0</td>\n",
       "      <td>0</td>\n",
       "      <td>0.376812</td>\n",
       "    </tr>\n",
       "    <tr>\n",
       "      <th>LF_substrate_B_I_2</th>\n",
       "      <td>16</td>\n",
       "      <td>0.005935</td>\n",
       "      <td>0.005935</td>\n",
       "      <td>0.005935</td>\n",
       "      <td>4</td>\n",
       "      <td>2</td>\n",
       "      <td>0</td>\n",
       "      <td>0</td>\n",
       "      <td>0.666667</td>\n",
       "    </tr>\n",
       "    <tr>\n",
       "      <th>LF_transfect_0</th>\n",
       "      <td>17</td>\n",
       "      <td>0.028684</td>\n",
       "      <td>0.021761</td>\n",
       "      <td>0.007913</td>\n",
       "      <td>0</td>\n",
       "      <td>0</td>\n",
       "      <td>1</td>\n",
       "      <td>26</td>\n",
       "      <td>0.962963</td>\n",
       "    </tr>\n",
       "    <tr>\n",
       "      <th>LF_sequenc_in_sentence_0</th>\n",
       "      <td>18</td>\n",
       "      <td>0.003956</td>\n",
       "      <td>0.001978</td>\n",
       "      <td>0.001978</td>\n",
       "      <td>0</td>\n",
       "      <td>0</td>\n",
       "      <td>0</td>\n",
       "      <td>4</td>\n",
       "      <td>1.000000</td>\n",
       "    </tr>\n",
       "  </tbody>\n",
       "</table>\n",
       "</div>"
      ],
      "text/plain": [
       "                            j  Coverage  Overlaps  Conflicts  TP   FP   FN  \\\n",
       "LF_activate_B_0             0  0.064293  0.059347   0.059347  23   41    0   \n",
       "LF_activates_1              1  0.006924  0.006924   0.006924   6    1    0   \n",
       "LF_between_before_0         2  0.261128  0.261128   0.258160  46  214    0   \n",
       "LF_between_before_2         3  0.318497  0.318497   0.305638  50  268    0   \n",
       "LF_between_before_4         4  0.271019  0.271019   0.263106  47  223    0   \n",
       "LF_between_before_6         5  0.327399  0.327399   0.309594  51  276    0   \n",
       "LF_close_I_0                6  0.117705  0.117705   0.117705  55   61    0   \n",
       "LF_dist_sup_4               7  0.058358  0.055391   0.053412  21   38    0   \n",
       "LF_induc_0                  8  0.180020  0.160237   0.062315   0    0   21   \n",
       "LF_influence_B_0            9  0.005935  0.005935   0.005935   2    4    0   \n",
       "LF_interact_in_sentence_0  10  0.063304  0.063304   0.063304  41   21    0   \n",
       "LF_interaction_4           11  0.132542  0.122651   0.117705  30  104    0   \n",
       "LF_levels_0                12  0.057369  0.055391   0.019782   0    0    5   \n",
       "LF_no_B_0                  13  0.235410  0.212661   0.103858   0    0   43   \n",
       "LF_no_B_4                  14  0.792285  0.642928   0.477745   0    0  205   \n",
       "LF_regulate_Betw_0         15  0.068249  0.062315   0.061325  26   43    0   \n",
       "LF_substrate_B_I_2         16  0.005935  0.005935   0.005935   4    2    0   \n",
       "LF_transfect_0             17  0.028684  0.021761   0.007913   0    0    1   \n",
       "LF_sequenc_in_sentence_0   18  0.003956  0.001978   0.001978   0    0    0   \n",
       "\n",
       "                            TN  Empirical Acc.  \n",
       "LF_activate_B_0              0        0.359375  \n",
       "LF_activates_1               0        0.857143  \n",
       "LF_between_before_0          0        0.176923  \n",
       "LF_between_before_2          0        0.157233  \n",
       "LF_between_before_4          0        0.174074  \n",
       "LF_between_before_6          0        0.155963  \n",
       "LF_close_I_0                 0        0.474138  \n",
       "LF_dist_sup_4                0        0.355932  \n",
       "LF_induc_0                 161        0.884615  \n",
       "LF_influence_B_0             0        0.333333  \n",
       "LF_interact_in_sentence_0    0        0.661290  \n",
       "LF_interaction_4             0        0.223881  \n",
       "LF_levels_0                 52        0.912281  \n",
       "LF_no_B_0                  190        0.815451  \n",
       "LF_no_B_4                  586        0.740834  \n",
       "LF_regulate_Betw_0           0        0.376812  \n",
       "LF_substrate_B_I_2           0        0.666667  \n",
       "LF_transfect_0              26        0.962963  \n",
       "LF_sequenc_in_sentence_0     4        1.000000  "
      ]
     },
     "execution_count": 14,
     "metadata": {},
     "output_type": "execute_result"
    }
   ],
   "source": [
    "pipe.babbler.get_lf_stats()"
   ]
  },
  {
   "cell_type": "code",
   "execution_count": 15,
   "metadata": {
    "collapsed": false,
    "scrolled": false
   },
   "outputs": [],
   "source": [
    "# pipe.babbler.filtered_analysis()"
   ]
  },
  {
   "cell_type": "code",
   "execution_count": 16,
   "metadata": {
    "collapsed": false,
    "scrolled": false
   },
   "outputs": [],
   "source": [
    "# %time pipe.label()"
   ]
  },
  {
   "cell_type": "code",
   "execution_count": 17,
   "metadata": {
    "collapsed": false,
    "scrolled": false
   },
   "outputs": [],
   "source": [
    "# %time pipe.supervise()"
   ]
  },
  {
   "cell_type": "code",
   "execution_count": 18,
   "metadata": {
    "collapsed": false,
    "scrolled": false
   },
   "outputs": [],
   "source": [
    "# %time pipe.classify()"
   ]
  }
 ],
 "metadata": {
  "kernelspec": {
   "display_name": "Python 2",
   "language": "python",
   "name": "python2"
  },
  "language_info": {
   "codemirror_mode": {
    "name": "ipython",
    "version": 2
   },
   "file_extension": ".py",
   "mimetype": "text/x-python",
   "name": "python",
   "nbconvert_exporter": "python",
   "pygments_lexer": "ipython2",
   "version": "2.7.14"
  }
 },
 "nbformat": 4,
 "nbformat_minor": 2
}
