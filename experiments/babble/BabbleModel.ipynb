{
 "cells": [
  {
   "cell_type": "code",
   "execution_count": 1,
   "metadata": {
    "collapsed": false,
    "deletable": true,
    "editable": true
   },
   "outputs": [],
   "source": [
    "%load_ext autoreload\n",
    "%autoreload 2"
   ]
  },
  {
   "cell_type": "code",
   "execution_count": 2,
   "metadata": {
    "collapsed": true,
    "deletable": true,
    "editable": true
   },
   "outputs": [],
   "source": [
    "import os\n",
    "\n",
    "DOMAIN = 'drink'\n",
    "\n",
    "db_dict = {\n",
    "    'test':   'postgres:///babble_model_unittest',\n",
    "    'spouse': 'postgres:///babble_model_spouse',\n",
    "    'bike':   'postgres:///babble_model_bike',\n",
    "    'drink':  'postgres:///babble_model_drink',\n",
    "    'cdr':    'postgres:///babble_model_cdr',\n",
    "}\n",
    "os.environ['SNORKELDB'] = db_dict[DOMAIN]"
   ]
  },
  {
   "cell_type": "code",
   "execution_count": 3,
   "metadata": {
    "collapsed": false,
    "deletable": true,
    "editable": true,
    "scrolled": true
   },
   "outputs": [],
   "source": [
    "from snorkel import SnorkelSession\n",
    "session = SnorkelSession()"
   ]
  },
  {
   "cell_type": "code",
   "execution_count": 4,
   "metadata": {
    "collapsed": false,
    "deletable": true,
    "editable": true,
    "scrolled": true
   },
   "outputs": [],
   "source": [
    "from snorkel.contrib.babble.pipelines import config\n",
    "\n",
    "config = configuration\n",
    "config['domain'] = DOMAIN\n",
    "config['splits'] = [0,1]\n",
    "config['babbler_split'] = 0\n",
    "config['max_docs'] = None\n",
    "config['parallelism'] = 1\n",
    "config['traditional'] = False\n",
    "config['majority'] = False\n",
    "config['verbose'] = True\n",
    "config['display_marginals'] = True\n",
    "config['display_accuracies'] = True\n",
    "config['display_learned_accuracies'] = True"
   ]
  },
  {
   "cell_type": "code",
   "execution_count": 5,
   "metadata": {
    "collapsed": false,
    "deletable": true,
    "editable": true,
    "scrolled": true
   },
   "outputs": [
    {
     "name": "stdout",
     "output_type": "stream",
     "text": [
      "Reading train CSV!\n",
      "Num HITs unique: 44\n",
      "Num HITs total: 132\n",
      "Unanimous: 112\n",
      "Majority: 54\n",
      "Bad: 37\n",
      "Total explanations: 370\n"
     ]
    }
   ],
   "source": [
    "from snorkel.models import candidate_subclass\n",
    "from experiments.babble import MTurkHelper\n",
    "from snorkel.contrib.babble import ExplanationIO\n",
    "\n",
    "if DOMAIN == 'spouse':\n",
    "    from experiments.babble.spouse import SpousePipeline\n",
    "    Spouse = candidate_subclass('Spouse', ['person1', 'person2'])\n",
    "    candidate_class = Spouse\n",
    "    \n",
    "    expio = ExplanationIO()\n",
    "    fpath = (os.environ['SNORKELHOME'] + \n",
    "        '/experiments/babble/spouse/data/mturk_explanations_all.tsv')\n",
    "    explanations = expio.read(fpath)\n",
    "    \n",
    "    sm = SpousePipeline(session, Spouse, config)\n",
    "elif DOMAIN == 'bike':\n",
    "    from experiments.babble.bike import BikePipeline\n",
    "    Biker = candidate_subclass('Biker', ['person', 'bike'])\n",
    "    candidate_class = Biker\n",
    "    \n",
    "    helper = MTurkHelper()\n",
    "    output_csv_path = (os.environ['SNORKELHOME'] + \n",
    "                       '/experiments/babble/bike/data/VisualGenome_all_out.csv')\n",
    "    explanations = helper.postprocess_visual(output_csv_path, set_name='train', verbose=False)\n",
    "    \n",
    "    sm = BikePipeline(session, Biker, config)\n",
    "elif DOMAIN == 'drink':\n",
    "    from experiments.babble.drink import DrinkPipeline\n",
    "    Drinker = candidate_subclass('Drinker', ['person', 'cup'])\n",
    "    candidate_class = Drinker\n",
    "    \n",
    "    helper = MTurkHelper()\n",
    "    output_csv_path = (os.environ['SNORKELHOME'] + \n",
    "                       '/experiments/babble/drink/data/Reach_Explanation_out.csv')\n",
    "    explanations = helper.postprocess_visual(output_csv_path, set_name='train', verbose=False)\n",
    "    \n",
    "    sm = DrinkPipeline(session, Drinker, config)   \n",
    "else:\n",
    "    raise Exception('Invalid domain: {}'.format(DOMAIN))\n",
    "user_lists = {}\n",
    "print(\"Total explanations: {}\".format(len(explanations)))"
   ]
  },
  {
   "cell_type": "code",
   "execution_count": 6,
   "metadata": {
    "collapsed": false,
    "deletable": true,
    "editable": true,
    "scrolled": true
   },
   "outputs": [
    {
     "name": "stdout",
     "output_type": "stream",
     "text": [
      "Clearing existing...\n",
      "Running UDF...\n",
      "Running UDF...\n",
      "CPU times: user 10.6 s, sys: 868 ms, total: 11.4 s\n",
      "Wall time: 29.6 s\n"
     ]
    }
   ],
   "source": [
    "anns_folder = os.environ['SNORKELHOME'] + '/experiments/babble/drink/data/'\n",
    "%time sm.parse(anns_folder)"
   ]
  },
  {
   "cell_type": "code",
   "execution_count": 7,
   "metadata": {
    "collapsed": false,
    "deletable": true,
    "editable": true,
    "scrolled": true
   },
   "outputs": [
    {
     "name": "stdout",
     "output_type": "stream",
     "text": [
      "Extraction was performed during parse stage.\n",
      "Candidates [Split 0]: 2524\n",
      "Candidates [Split 1]: 495\n",
      "CPU times: user 24 ms, sys: 16 ms, total: 40 ms\n",
      "Wall time: 29.1 ms\n"
     ]
    }
   ],
   "source": [
    "%time sm.extract()"
   ]
  },
  {
   "cell_type": "code",
   "execution_count": 8,
   "metadata": {
    "collapsed": false,
    "deletable": true,
    "editable": true,
    "scrolled": true
   },
   "outputs": [
    {
     "name": "stdout",
     "output_type": "stream",
     "text": [
      "Reading val CSV!\n",
      "Num HITs unique: 124\n",
      "Num HITs total: 248\n",
      "Unanimous: 279\n",
      "Majority: 263\n",
      "Bad: 84\n",
      "Reading train CSV!\n",
      "Num HITs unique: 631\n",
      "Num HITs total: 1262\n",
      "Unanimous: 1560\n",
      "Majority: 1374\n",
      "Bad: 277\n",
      "AnnotatorLabels created: 411\n",
      "AnnotatorLabels created: 2247\n",
      "CPU times: user 36.6 s, sys: 992 ms, total: 37.6 s\n",
      "Wall time: 46.9 s\n"
     ]
    }
   ],
   "source": [
    "%time sm.load_gold(anns_folder)"
   ]
  },
  {
   "cell_type": "code",
   "execution_count": 9,
   "metadata": {
    "collapsed": false,
    "deletable": true,
    "editable": true
   },
   "outputs": [
    {
     "data": {
      "text/plain": [
       "<2524x1 sparse matrix of type '<type 'numpy.int64'>'\n",
       "\twith 2247 stored elements in Compressed Sparse Row format>"
      ]
     },
     "execution_count": 9,
     "metadata": {},
     "output_type": "execute_result"
    }
   ],
   "source": [
    "from snorkel.annotations import load_gold_labels\n",
    "L_gold_train = load_gold_labels(session, annotator_name='gold', split=0)\n",
    "L_gold_train"
   ]
  },
  {
   "cell_type": "code",
   "execution_count": 10,
   "metadata": {
    "collapsed": false,
    "deletable": true,
    "editable": true
   },
   "outputs": [
    {
     "data": {
      "text/plain": [
       "757"
      ]
     },
     "execution_count": 10,
     "metadata": {},
     "output_type": "execute_result"
    }
   ],
   "source": [
    "import numpy as np\n",
    "np.shape(np.where(np.array(L_gold_train.todense()) == 1))[1]"
   ]
  },
  {
   "cell_type": "code",
   "execution_count": 11,
   "metadata": {
    "collapsed": false,
    "deletable": true,
    "editable": true
   },
   "outputs": [
    {
     "data": {
      "text/plain": [
       "<495x1 sparse matrix of type '<type 'numpy.int64'>'\n",
       "\twith 411 stored elements in Compressed Sparse Row format>"
      ]
     },
     "execution_count": 11,
     "metadata": {},
     "output_type": "execute_result"
    }
   ],
   "source": [
    "from snorkel.annotations import load_gold_labels\n",
    "L_gold_dev = load_gold_labels(session, annotator_name='gold', split=1)\n",
    "L_gold_dev"
   ]
  },
  {
   "cell_type": "code",
   "execution_count": 12,
   "metadata": {
    "collapsed": false,
    "deletable": true,
    "editable": true
   },
   "outputs": [
    {
     "data": {
      "text/plain": [
       "145"
      ]
     },
     "execution_count": 12,
     "metadata": {},
     "output_type": "execute_result"
    }
   ],
   "source": [
    "import numpy as np\n",
    "np.shape(np.where(np.array(L_gold_dev.todense()) == 1))[1]"
   ]
  },
  {
   "cell_type": "code",
   "execution_count": 13,
   "metadata": {
    "collapsed": false,
    "deletable": true,
    "editable": true
   },
   "outputs": [
    {
     "name": "stdout",
     "output_type": "stream",
     "text": [
      "2524\n"
     ]
    }
   ],
   "source": [
    "candidates = session.query(candidate_class).filter(\n",
    "    candidate_class.split == config['babbler_split']).all()\n",
    "# candidates = session.query(candidate_class).filter(candidate_class.split == 0).all()\n",
    "print(len(candidates))"
   ]
  },
  {
   "cell_type": "code",
   "execution_count": 14,
   "metadata": {
    "collapsed": false,
    "deletable": true,
    "editable": true
   },
   "outputs": [
    {
     "name": "stdout",
     "output_type": "stream",
     "text": [
      "Building list of target candidate ids...\n",
      "Collected 139 unique target candidate ids from 370 explanations.\n",
      "Gathering desired candidates...\n",
      "Found 139/139 desired candidates\n",
      "Linking explanations to candidates...\n",
      "Linked 370/370 explanations\n"
     ]
    }
   ],
   "source": [
    "from snorkel.contrib.babble import link_explanation_candidates\n",
    "\n",
    "explanations = link_explanation_candidates(explanations, candidates)"
   ]
  },
  {
   "cell_type": "code",
   "execution_count": 15,
   "metadata": {
    "collapsed": false,
    "deletable": true,
    "editable": true,
    "scrolled": false
   },
   "outputs": [
    {
     "name": "stdout",
     "output_type": "stream",
     "text": [
      "Calling babbler...\n",
      "Created grammar with 430 rules\n",
      "159 parses created from 111 out of 370 explanation(s)\n",
      "Parsed 159 LFs from 370 explanations.\n",
      "Filtered to 38 LFs with duplicate semantics filter (121 filtered).\n",
      "Filtered to 21 LFs with consistency filter (17 filtered).\n",
      "Clearing existing...\n",
      "Running UDF...\n",
      "[========================================] 100%\n",
      "\n",
      "Filtered to 18 LFs with uniform signatures filter (3 filtered).\n",
      "Filtered to 14 LFs with duplicate signatures filter (4 filtered).\n",
      "CPU times: user 42.6 s, sys: 1.68 s, total: 44.3 s\n",
      "Wall time: 1min 7s\n"
     ]
    }
   ],
   "source": [
    "%time sm.babble(explanations, user_lists=user_lists, config=config)"
   ]
  },
  {
   "cell_type": "code",
   "execution_count": 16,
   "metadata": {
    "collapsed": false,
    "deletable": true,
    "editable": true,
    "scrolled": false
   },
   "outputs": [
    {
     "name": "stdout",
     "output_type": "stream",
     "text": [
      "Clearing existing...\n",
      "Running UDF...\n",
      "[========================================] 100%\n",
      "\n",
      "\n",
      "Labeled split 0: (2524,14) sparse (nnz = 15831)\n",
      "Clearing existing...\n",
      "Running UDF...\n",
      "[========================================] 100%\n",
      "\n",
      "\n",
      "Labeled split 1: (495,14) sparse (nnz = 3192)\n",
      "CPU times: user 39.6 s, sys: 1.25 s, total: 40.8 s\n",
      "Wall time: 58.7 s\n"
     ]
    }
   ],
   "source": [
    "%time sm.label()\n",
    "import time\n",
    "time.sleep(10)"
   ]
  },
  {
   "cell_type": "code",
   "execution_count": 17,
   "metadata": {
    "collapsed": false,
    "deletable": true,
    "editable": true,
    "scrolled": false
   },
   "outputs": [
    {
     "name": "stdout",
     "output_type": "stream",
     "text": [
      "Inferred cardinality: 2\n"
     ]
    },
    {
     "data": {
      "image/png": "[encoded data removed]",
      "text/plain": [
       "<matplotlib.figure.Figure at 0x7fbd6db4ea50>"
      ]
     },
     "metadata": {},
     "output_type": "display_data"
    },
    {
     "name": "stdout",
     "output_type": "stream",
     "text": [
      "CPU times: user 18.4 s, sys: 5.12 s, total: 23.6 s\n",
      "Wall time: 18.2 s\n"
     ]
    }
   ],
   "source": [
    "%time sm.supervise(config=config)\n",
    "time.sleep(10)"
   ]
  },
  {
   "cell_type": "code",
   "execution_count": 18,
   "metadata": {
    "collapsed": false,
    "deletable": true,
    "editable": true
   },
   "outputs": [
    {
     "data": {
      "text/plain": [
       "<495x14 sparse matrix of type '<type 'numpy.int64'>'\n",
       "\twith 3192 stored elements in Compressed Sparse Row format>"
      ]
     },
     "execution_count": 18,
     "metadata": {},
     "output_type": "execute_result"
    }
   ],
   "source": [
    "L_dev = sm.labeler.load_matrix(session, split=1)\n",
    "time.sleep(10)\n",
    "L_dev"
   ]
  },
  {
   "cell_type": "code",
   "execution_count": 19,
   "metadata": {
    "collapsed": false,
    "deletable": true,
    "editable": true,
    "scrolled": true
   },
   "outputs": [],
   "source": [
    "L_dev.lf_stats(session, L_gold_dev)\n",
    "time.sleep(10)"
   ]
  },
  {
   "cell_type": "code",
   "execution_count": 37,
   "metadata": {
    "collapsed": false,
    "deletable": true,
    "editable": true
   },
   "outputs": [
    {
     "name": "stdout",
     "output_type": "stream",
     "text": [
      "========================================\n",
      "Scores (Un-adjusted)\n",
      "========================================\n",
      "Pos. class accuracy: 0.917\n",
      "Neg. class accuracy: 0.146\n",
      "Precision            0.308\n",
      "Recall               0.917\n",
      "F1                   0.461\n",
      "----------------------------------------\n",
      "TP: 133 | FP: 299 | TN: 51 | FN: 12\n",
      "========================================\n",
      "\n"
     ]
    }
   ],
   "source": [
    "tp, fp, tn, fn = sm.gen_model.error_analysis(session, L_dev, L_gold_dev, b=0.9)"
   ]
  },
  {
   "cell_type": "code",
   "execution_count": 21,
   "metadata": {
    "collapsed": false,
    "deletable": true,
    "editable": true,
    "scrolled": true
   },
   "outputs": [],
   "source": [
    "# %time sm.classify()"
   ]
  },
  {
   "cell_type": "raw",
   "metadata": {},
   "source": [
    "REACHER DEV (majority vote) - 9/2/17\n",
    "========================================\n",
    "Scores (Un-adjusted)\n",
    "========================================\n",
    "Pos. class accuracy: 0.917\n",
    "Neg. class accuracy: 0.146\n",
    "Precision            0.308\n",
    "Recall               0.917\n",
    "F1                   0.461\n",
    "----------------------------------------\n",
    "TP: 133 | FP: 299 | TN: 51 | FN: 12\n",
    "========================================"
   ]
  },
  {
   "cell_type": "raw",
   "metadata": {
    "deletable": true,
    "editable": true
   },
   "source": [
    "BIKER DEV (majority vote) - 8/11/17\n",
    "========================================\n",
    "Scores (Un-adjusted)\n",
    "========================================\n",
    "Pos. class accuracy: 0.924\n",
    "Neg. class accuracy: 0.59\n",
    "Precision            0.364\n",
    "Recall               0.924\n",
    "F1                   0.522\n",
    "----------------------------------------\n",
    "TP: 194 | FP: 339 | TN: 488 | FN: 16\n",
    "========================================\n",
    "\n",
    "Baseline F1: 0.33 (guess all true)"
   ]
  },
  {
   "cell_type": "raw",
   "metadata": {
    "deletable": true,
    "editable": true
   },
   "source": [
    "SPOUSE TEST (w/ intro lfs):\n",
    "========================================\n",
    "Scores (Un-adjusted)\n",
    "========================================\n",
    "Pos. class accuracy: 0.624\n",
    "Neg. class accuracy: 0.926\n",
    "Precision            0.426\n",
    "Recall               0.624\n",
    "F1                   0.507\n",
    "----------------------------------------\n",
    "TP: 136 | FP: 183 | TN: 2300 | FN: 82\n",
    "========================================"
   ]
  },
  {
   "cell_type": "code",
   "execution_count": null,
   "metadata": {
    "collapsed": true,
    "deletable": true,
    "editable": true
   },
   "outputs": [],
   "source": []
  },
  {
   "cell_type": "code",
   "execution_count": 22,
   "metadata": {
    "collapsed": false,
    "deletable": true,
    "editable": true
   },
   "outputs": [],
   "source": [
    "# L_train = sm.labeler.load_matrix(session, split=0)\n",
    "# L_train"
   ]
  },
  {
   "cell_type": "code",
   "execution_count": 23,
   "metadata": {
    "collapsed": false,
    "deletable": true,
    "editable": true,
    "scrolled": true
   },
   "outputs": [],
   "source": [
    "# # from snorkel.learning import GenerativePipeline\n",
    "# from snorkel.learning import RandomSearch, ListParameter, RangeParameter\n",
    "\n",
    "# epochs_param    = ListParameter('epochs', [5, 10, 20])\n",
    "# decay_param     = ListParameter('decay', [0.9, 0.95])\n",
    "# step_size_param = RangeParameter('step_size', 1e-6, 1e-5, step=1, log_base=10)\n",
    "# reg_param       = ListParameter('reg_param', [1e-6])\n",
    "\n",
    "# searcher = RandomSearch(GenerativePipeline, \n",
    "#                         [step_size_param, decay_param, epochs_param, reg_param],\n",
    "#                         L_train, n=5)"
   ]
  },
  {
   "cell_type": "code",
   "execution_count": 24,
   "metadata": {
    "collapsed": false,
    "deletable": true,
    "editable": true,
    "scrolled": true
   },
   "outputs": [],
   "source": [
    "# %%time\n",
    "# gen_model_best, run_stats = searcher.fit(L_dev, L_gold_dev)\n",
    "# run_stats"
   ]
  },
  {
   "cell_type": "code",
   "execution_count": 25,
   "metadata": {
    "collapsed": true,
    "deletable": true,
    "editable": true
   },
   "outputs": [],
   "source": [
    "# gen_model_best = GenerativePipeline(class_prior=False, lf_prior=False, \n",
    "#                                  lf_propensity=False, lf_class_propensity=False)"
   ]
  },
  {
   "cell_type": "code",
   "execution_count": 26,
   "metadata": {
    "collapsed": false,
    "deletable": true,
    "editable": true,
    "scrolled": true
   },
   "outputs": [],
   "source": [
    "# gen_model_best.train(L_train, epochs=10, decay=0.95, step_size=1e-6, reg_param=1e-6)"
   ]
  },
  {
   "cell_type": "code",
   "execution_count": 27,
   "metadata": {
    "collapsed": false,
    "deletable": true,
    "editable": true
   },
   "outputs": [],
   "source": [
    "# tp, fp, tn, fn = gen_model_best.error_analysis(session, L_dev, L_gold_dev, b=0.8)"
   ]
  },
  {
   "cell_type": "code",
   "execution_count": 28,
   "metadata": {
    "collapsed": false,
    "deletable": true,
    "editable": true
   },
   "outputs": [],
   "source": [
    "# import matplotlib.pyplot as plt\n",
    "\n",
    "# train_marginals = gen_model_best.marginals(L_train)\n",
    "# plt.hist(train_marginals, bins=30)\n",
    "# plt.show()"
   ]
  }
 ],
 "metadata": {
  "anaconda-cloud": {},
  "kernelspec": {
   "display_name": "Python 2",
   "language": "python",
   "name": "python2"
  },
  "language_info": {
   "codemirror_mode": {
    "name": "ipython",
    "version": 2
   },
   "file_extension": ".py",
   "mimetype": "text/x-python",
   "name": "python",
   "nbconvert_exporter": "python",
   "pygments_lexer": "ipython2",
   "version": "2.7.13"
  }
 },
 "nbformat": 4,
 "nbformat_minor": 1
}
