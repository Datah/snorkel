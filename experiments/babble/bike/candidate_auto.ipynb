{
 "cells": [
  {
   "cell_type": "code",
   "execution_count": 1,
   "metadata": {
    "collapsed": false,
    "deletable": true,
    "editable": true
   },
   "outputs": [],
   "source": [
    "%load_ext autoreload\n",
    "%autoreload 2\n",
    "%matplotlib inline\n",
    "import os\n",
    "\n",
    "# TO USE A DATABASE OTHER THAN SQLITE, USE THIS LINE\n",
    "# Note that this is necessary for parallel execution amongst other things...\n",
    "# os.environ['SNORKELDB'] = 'postgres://localhost:5432/babble_test_bike'\n",
    "\n",
    "from snorkel import SnorkelSession\n",
    "session = SnorkelSession()"
   ]
  },
  {
   "cell_type": "code",
   "execution_count": 2,
   "metadata": {
    "collapsed": false,
    "deletable": true,
    "editable": true,
    "scrolled": true
   },
   "outputs": [],
   "source": [
    "import numpy as np\n",
    "\n",
    "# anns_folder = '/dfs/scratch0/paroma/coco/annotations/'\n",
    "anns_folder = os.environ['SNORKELHOME'] + '/experiments/babble/bike/data/'\n",
    "train_path = anns_folder + 'train_anns.npy'\n",
    "val_path = anns_folder + 'val_anns.npy'\n",
    "\n",
    "train_anns = np.load(train_path).tolist()\n",
    "val_anns = np.load(val_path).tolist()"
   ]
  },
  {
   "cell_type": "code",
   "execution_count": 3,
   "metadata": {
    "collapsed": true,
    "deletable": true,
    "editable": true
   },
   "outputs": [],
   "source": [
    "from snorkel.models import candidate_subclass\n",
    "\n",
    "Biker = candidate_subclass('Biker', ['person', 'bike'])"
   ]
  },
  {
   "cell_type": "code",
   "execution_count": 4,
   "metadata": {
    "collapsed": false,
    "deletable": true,
    "editable": true,
    "scrolled": true
   },
   "outputs": [
    {
     "name": "stdout",
     "output_type": "stream",
     "text": [
      "Clearing existing...\n",
      "Running UDF...\n",
      "CPU times: user 11.2 s, sys: 408 ms, total: 11.6 s\n",
      "Wall time: 11.6 s\n",
      "Running UDF...\n",
      "CPU times: user 2.49 s, sys: 108 ms, total: 2.6 s\n",
      "Wall time: 2.65 s\n",
      "Split 0 candidates: 2406\n",
      "Split 1 candidates: 1037\n"
     ]
    }
   ],
   "source": [
    "from snorkel.parser import ImageCorpusExtractor, CocoPreprocessor\n",
    "\n",
    "corpus_extractor = ImageCorpusExtractor(candidate_class=Biker)\n",
    "\n",
    "coco_preprocessor = CocoPreprocessor(train_path, source=0)\n",
    "%time corpus_extractor.apply(coco_preprocessor)\n",
    "\n",
    "coco_preprocessor = CocoPreprocessor(val_path, source=1)\n",
    "%time corpus_extractor.apply(coco_preprocessor, clear=False)\n",
    "\n",
    "for split in [0, 1]:\n",
    "    num_candidates = session.query(Biker).filter(Biker.split == split).count()\n",
    "    print(\"Split {} candidates: {}\".format(split, num_candidates))"
   ]
  },
  {
   "cell_type": "code",
   "execution_count": 5,
   "metadata": {
    "collapsed": true,
    "deletable": true,
    "editable": true
   },
   "outputs": [],
   "source": [
    "from snorkel.models import StableLabel\n",
    "from snorkel.db_helpers import reload_annotator_labels\n",
    "\n",
    "def assign_gold_labels(session, labels_by_candidate):\n",
    "    candidate_class = Biker\n",
    "    annotator_name = 'gold'\n",
    "    \n",
    "    for candidate_hash, label in labels_by_candidate.items():\n",
    "        set_name, image_idx, bbox1_idx, bbox2_idx = candidate_hash.split(':')\n",
    "        source = {'train': 0, 'val': 1}[set_name]\n",
    "        stable_id_1 = \"{}:{}::bbox:{}\".format(source, image_idx, bbox1_idx)\n",
    "        stable_id_2 = \"{}:{}::bbox:{}\".format(source, image_idx, bbox2_idx)\n",
    "        context_stable_ids = \"~~\".join([stable_id_1, stable_id_2])\n",
    "        query = session.query(StableLabel).filter(StableLabel.context_stable_ids == context_stable_ids)\n",
    "        query = query.filter(StableLabel.annotator_name == annotator_name)\n",
    "        label = 1 if label else -1\n",
    "        if query.count() == 0:\n",
    "            session.add(StableLabel(\n",
    "                context_stable_ids=context_stable_ids,\n",
    "                annotator_name=annotator_name,\n",
    "                value=label))\n",
    "\n",
    "    session.commit()\n",
    "    reload_annotator_labels(session, candidate_class, annotator_name, split=source, filter_label_split=False)"
   ]
  },
  {
   "cell_type": "code",
   "execution_count": 6,
   "metadata": {
    "collapsed": false,
    "deletable": true,
    "editable": true
   },
   "outputs": [
    {
     "name": "stdout",
     "output_type": "stream",
     "text": [
      "AnnotatorLabels created: 906\n"
     ]
    }
   ],
   "source": [
    "validation_labels_by_candidate = np.load(anns_folder + 'labels_by_candidate.npy').tolist()\n",
    "assign_gold_labels(session, validation_labels_by_candidate)"
   ]
  },
  {
   "cell_type": "code",
   "execution_count": 7,
   "metadata": {
    "collapsed": false,
    "deletable": true,
    "editable": true
   },
   "outputs": [
    {
     "name": "stdout",
     "output_type": "stream",
     "text": [
      "AnnotatorLabels created: 2102\n"
     ]
    }
   ],
   "source": [
    "train_labels_by_candidate = np.load(anns_folder + 'train_labels_by_candidate.npy').tolist()\n",
    "assign_gold_labels(session, train_labels_by_candidate)"
   ]
  },
  {
   "cell_type": "code",
   "execution_count": 8,
   "metadata": {
    "collapsed": false,
    "deletable": true,
    "editable": true
   },
   "outputs": [
    {
     "data": {
      "text/plain": [
       "<1037x1 sparse matrix of type '<type 'numpy.int64'>'\n",
       "\twith 906 stored elements in Compressed Sparse Row format>"
      ]
     },
     "execution_count": 8,
     "metadata": {},
     "output_type": "execute_result"
    }
   ],
   "source": [
    "from snorkel.annotations import load_gold_labels\n",
    "\n",
    "L_gold_dev = load_gold_labels(session, annotator_name='gold', split=1)\n",
    "L_gold_dev"
   ]
  },
  {
   "cell_type": "code",
   "execution_count": 9,
   "metadata": {
    "collapsed": false,
    "deletable": true,
    "editable": true
   },
   "outputs": [
    {
     "data": {
      "text/plain": [
       "<2406x1 sparse matrix of type '<type 'numpy.int64'>'\n",
       "\twith 2102 stored elements in Compressed Sparse Row format>"
      ]
     },
     "execution_count": 9,
     "metadata": {},
     "output_type": "execute_result"
    }
   ],
   "source": [
    "from snorkel.annotations import load_gold_labels\n",
    "\n",
    "L_gold_train = load_gold_labels(session, annotator_name='gold', split=0)\n",
    "L_gold_train"
   ]
  },
  {
   "cell_type": "code",
   "execution_count": null,
   "metadata": {
    "collapsed": true,
    "deletable": true,
    "editable": true
   },
   "outputs": [],
   "source": []
  }
 ],
 "metadata": {
  "kernelspec": {
   "display_name": "Python 2",
   "language": "python",
   "name": "python2"
  },
  "language_info": {
   "codemirror_mode": {
    "name": "ipython",
    "version": 2
   },
   "file_extension": ".py",
   "mimetype": "text/x-python",
   "name": "python",
   "nbconvert_exporter": "python",
   "pygments_lexer": "ipython2",
   "version": "2.7.6"
  }
 },
 "nbformat": 4,
 "nbformat_minor": 2
}
