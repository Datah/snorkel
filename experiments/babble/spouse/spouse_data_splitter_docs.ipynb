{
 "cells": [
  {
   "cell_type": "code",
   "execution_count": 2,
   "metadata": {
    "collapsed": false
   },
   "outputs": [
    {
     "name": "stdout",
     "output_type": "stream",
     "text": [
      "The autoreload extension is already loaded. To reload it, use:\n",
      "  %reload_ext autoreload\n"
     ]
    }
   ],
   "source": [
    "%load_ext autoreload\n",
    "%autoreload 2\n",
    "%matplotlib inline\n",
    "\n",
    "# import os\n",
    "# os.remove('snorkel.db')\n",
    "\n",
    "from snorkel import SnorkelSession\n",
    "session = SnorkelSession()"
   ]
  },
  {
   "cell_type": "code",
   "execution_count": 3,
   "metadata": {
    "collapsed": false,
    "scrolled": true
   },
   "outputs": [
    {
     "name": "stdout",
     "output_type": "stream",
     "text": [
      "Turk: 75 documents\n"
     ]
    }
   ],
   "source": [
    "import csv\n",
    "import os\n",
    "\n",
    "mturk_out_path = (os.environ['SNORKELHOME'] + \n",
    "                  '/experiments/babble/spouse/data/mturk_spouse_all_out.csv')\n",
    "\n",
    "with open(mturk_out_path, 'r') as csvfile:\n",
    "    csvreader = csv.reader(csvfile)\n",
    "\n",
    "    header = csvreader.next()\n",
    "    turk = set()\n",
    "    for row in csvreader:\n",
    "        for i, field in enumerate(row):\n",
    "            if header[i].startswith('Input.span1'):\n",
    "                turk.add(field[:field.find('::')] + \"::document:0:0\")\n",
    "print(\"Turk: {} documents\".format(len(turk)))"
   ]
  },
  {
   "cell_type": "code",
   "execution_count": 4,
   "metadata": {
    "collapsed": false
   },
   "outputs": [
    {
     "name": "stdout",
     "output_type": "stream",
     "text": [
      "Gold: 444 documents\n"
     ]
    }
   ],
   "source": [
    "gold_path = (os.environ['SNORKELHOME'] + \n",
    "                  '/tutorials/intro/data/gold_labels.tsv')\n",
    "\n",
    "with open(gold_path, 'r') as tsvfile:\n",
    "    tsvreader = csv.reader(tsvfile)\n",
    "    gold = set()\n",
    "    for row in tsvreader:\n",
    "        span = row[0]\n",
    "        doc_id = span[:span.find('::')] + \"::document:0:0\"\n",
    "        gold.add(doc_id)\n",
    "print(\"Gold: {} documents\".format(len(gold)))"
   ]
  },
  {
   "cell_type": "code",
   "execution_count": 5,
   "metadata": {
    "collapsed": false,
    "scrolled": true
   },
   "outputs": [],
   "source": [
    "import os\n",
    "import sys\n",
    "\n",
    "from snorkel.parser import TSVDocPreprocessor\n",
    "from snorkel.parser.spacy_parser import Spacy\n",
    "from snorkel.parser import CorpusParser\n",
    "\n",
    "MAX_DOCS = None\n",
    "\n",
    "doc_preprocessor = TSVDocPreprocessor(\n",
    "    os.environ['SNORKELHOME'] + '/tutorials/intro/data/articles.tsv',\n",
    "    max_docs=MAX_DOCS)\n",
    "\n",
    "# corpus_parser = CorpusParser(parser=Spacy())\n",
    "# %time corpus_parser.apply(doc_preprocessor, count=MAX_DOCS)\n",
    "\n",
    "# To use this shortcut, comment out corpus_parser lines and delete snorkel.db\n",
    "for doc, _ in doc_preprocessor:\n",
    "    session.add(doc)\n",
    "session.commit()"
   ]
  },
  {
   "cell_type": "code",
   "execution_count": 6,
   "metadata": {
    "collapsed": false,
    "scrolled": true
   },
   "outputs": [
    {
     "name": "stdout",
     "output_type": "stream",
     "text": [
      "('Documents:', 2591)\n"
     ]
    }
   ],
   "source": [
    "from snorkel.models import Document, Sentence\n",
    "\n",
    "print(\"Documents:\", session.query(Document).count())"
   ]
  },
  {
   "cell_type": "code",
   "execution_count": 7,
   "metadata": {
    "collapsed": false
   },
   "outputs": [
    {
     "name": "stdout",
     "output_type": "stream",
     "text": [
      "TRAIN docs: 2223\n",
      "DEV docs: 187\n",
      "TEST docs: 181\n"
     ]
    }
   ],
   "source": [
    "import random\n",
    "from snorkel.models import Document\n",
    "\n",
    "from tutorials.intro import number_of_people\n",
    "\n",
    "train_docs = set()\n",
    "dev_docs = set()\n",
    "test_docs = set()\n",
    "\n",
    "docs = session.query(Document).order_by(Document.name).all()\n",
    "# num_docs = len(docs)\n",
    "# train_fraction = 0.2\n",
    "# adj_train_fraction = (0.8 * num_docs - len(turk))/num_docs\n",
    "# print(adj_train_fraction)\n",
    "\n",
    "random.seed(2222)\n",
    "for i, doc in enumerate(docs):\n",
    "    rand = random.random()\n",
    "    if doc.stable_id in turk:\n",
    "        train_docs.add(doc)\n",
    "    elif doc.stable_id in gold:\n",
    "        if rand < 0.5:\n",
    "            dev_docs.add(doc)\n",
    "        else:\n",
    "            test_docs.add(doc)\n",
    "    else:\n",
    "        train_docs.add(doc)\n",
    "print(\"TRAIN docs: {}\".format(len(train_docs)))\n",
    "print(\"DEV docs: {}\".format(len(dev_docs)))\n",
    "print(\"TEST docs: {}\".format(len(test_docs)))"
   ]
  },
  {
   "cell_type": "code",
   "execution_count": 8,
   "metadata": {
    "collapsed": false
   },
   "outputs": [],
   "source": [
    "assignment_path = mturk_out_path = (os.environ['SNORKELHOME'] + \n",
    "                  '/experiments/babble/spouse/data/split_assignments.tsv')\n",
    "with open(assignment_path, 'w') as tsvfile:\n",
    "    tsvwriter = csv.writer(tsvfile, delimiter='\\t')\n",
    "    for split, doc_set in enumerate([train_docs, dev_docs, test_docs]):\n",
    "        for doc in doc_set:\n",
    "            tsvwriter.writerow([doc.stable_id, split])"
   ]
  },
  {
   "cell_type": "code",
   "execution_count": 9,
   "metadata": {
    "collapsed": true
   },
   "outputs": [],
   "source": [
    "# TEST with this:\n",
    "assignment_path = mturk_out_path = (os.environ['SNORKELHOME'] + \n",
    "          '/experiments/babble/spouse/data/split_assignments.tsv')\n",
    "with open(assignment_path, 'r') as tsvfile:\n",
    "    tsvreader = csv.reader(tsvfile, delimiter='\\t')\n",
    "    split_assignments = {k: v for k, v in tsvreader}"
   ]
  },
  {
   "cell_type": "code",
   "execution_count": 10,
   "metadata": {
    "collapsed": false
   },
   "outputs": [
    {
     "data": {
      "text/plain": [
       "[('d325336a-b3ef-4a6d-b7e1-2eca3a42cd2a::document:0:0', '0'),\n",
       " ('14112548-367a-4de1-85a7-11cd145b18e0::document:0:0', '1'),\n",
       " ('44c591cf-4fcb-42f3-86cb-ce469aa5bda7::document:0:0', '0'),\n",
       " ('240f6aee-21ca-44fa-8a11-f9f028e18b1f::document:0:0', '0'),\n",
       " ('e6a7cef9-ef82-43fe-9d92-39ef052bcad6::document:0:0', '0'),\n",
       " ('2667f876-2b6f-4516-b4b6-2024246d3d66::document:0:0', '0'),\n",
       " ('b19afa20-bfd9-497c-90be-c90d42df259e::document:0:0', '0'),\n",
       " ('a0ae0e02-2323-4fed-869f-a7a5a544278f::document:0:0', '0'),\n",
       " ('2a24e6e6-cb26-463b-8d71-977ca6e88bb6::document:0:0', '0'),\n",
       " ('e16a971f-23ce-42e4-81df-b2386126f8b3::document:0:0', '0'),\n",
       " ('35cabc94-63de-47ad-b28d-4b70861a2e3b::document:0:0', '0'),\n",
       " ('a8dfab81-2664-4586-92c7-d448550c88de::document:0:0', '0'),\n",
       " ('e37ad99f-cc66-4759-8f5f-746ca1ab7db0::document:0:0', '0'),\n",
       " ('ce4e1a2f-d81c-4cf4-93cb-cd30f4f4246f::document:0:0', '0'),\n",
       " ('29ff04ea-aefd-4f83-8778-3137862158e3::document:0:0', '0'),\n",
       " ('c314652b-f30d-428f-b720-abb85f0ddc6d::document:0:0', '0'),\n",
       " ('5b7adf0b-9d77-4ad8-bacf-5668bc8473f9::document:0:0', '0'),\n",
       " ('f9135a9e-1c43-47bc-b197-76fc68133eb1::document:0:0', '0'),\n",
       " ('6a4803ec-805c-4619-8831-789599c2086a::document:0:0', '0'),\n",
       " ('e41391d5-ce1b-4bf6-bf26-3fbdd2625db0::document:0:0', '0'),\n",
       " ('a7ff031d-62a4-4d39-bca1-2d74414b04fc::document:0:0', '0'),\n",
       " ('f6cd9544-b27f-436f-9541-743a0af56ac2::document:0:0', '0'),\n",
       " ('c20be699-afb7-41a8-9a5f-6fb387ad896d::document:0:0', '0'),\n",
       " ('14422802-1451-4473-862c-261263b0f6f9::document:0:0', '2'),\n",
       " ('b9033f64-a9b5-4d0d-acaa-2d61b1b16214::document:0:0', '0'),\n",
       " ('328ddab4-27f6-40ab-a3a9-1a99f7dc408f::document:0:0', '0'),\n",
       " ('97a66231-bc44-443e-be35-485d82528d2f::document:0:0', '1'),\n",
       " ('e346a4ca-8082-4a8f-8e9e-80402265bdfc::document:0:0', '0'),\n",
       " ('dde55008-909e-494e-afdf-eae6a7917076::document:0:0', '0'),\n",
       " ('fd1ae6f6-5712-4198-a2c6-1188ec24bf62::document:0:0', '0')]"
      ]
     },
     "execution_count": 10,
     "metadata": {},
     "output_type": "execute_result"
    }
   ],
   "source": [
    "split_assignments.items()[:30]"
   ]
  },
  {
   "cell_type": "code",
   "execution_count": null,
   "metadata": {
    "collapsed": false
   },
   "outputs": [],
   "source": [
    "# import os \n",
    "# from tutorials.intro import load_external_labels\n",
    "# from snorkel.annotations import load_gold_labels\n",
    "\n",
    "# fpath = os.environ['SNORKELHOME'] + '/tutorials/intro/data/gold_labels.tsv'\n",
    "# load_external_labels(session, Spouse, annotator_name='gold', path=fpath, \n",
    "#                      splits=[0,1,2])\n",
    "\n",
    "# L_train = L_gold_train = load_gold_labels(session, annotator_name='gold', split=0)"
   ]
  }
 ],
 "metadata": {
  "kernelspec": {
   "display_name": "Python 2",
   "language": "python",
   "name": "python2"
  },
  "language_info": {
   "codemirror_mode": {
    "name": "ipython",
    "version": 2
   },
   "file_extension": ".py",
   "mimetype": "text/x-python",
   "name": "python",
   "nbconvert_exporter": "python",
   "pygments_lexer": "ipython2",
   "version": "2.7.13"
  }
 },
 "nbformat": 4,
 "nbformat_minor": 2
}
