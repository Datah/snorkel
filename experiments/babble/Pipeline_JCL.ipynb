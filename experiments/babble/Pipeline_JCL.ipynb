{
 "cells": [
  {
   "cell_type": "code",
   "execution_count": 1,
   "metadata": {
    "collapsed": false
   },
   "outputs": [],
   "source": [
    "%load_ext autoreload\n",
    "%autoreload 2"
   ]
  },
  {
   "cell_type": "code",
   "execution_count": 2,
   "metadata": {
    "collapsed": false
   },
   "outputs": [],
   "source": [
    "config = {\n",
    "    'project': 'babble',\n",
    "    'domain': 'spouse',\n",
    "    'gold_explanations': True,\n",
    "#     'debug': True,\n",
    "    'db_name': 'babble_spouse_goldlabeled_tocopy',\n",
    "#     'lf_source': 'gradturk',\n",
    "#     'max_explanations': 30,\n",
    "    'seed': 1,\n",
    "    'parallelism': 1,\n",
    "    'splits': [0, 1],\n",
    "    'disc_model_class': 'logreg',\n",
    "}\n",
    "\n",
    "if config['gold_explanations'] and not 'gold' in config.get('db_name',''):\n",
    "    print(\"WARNING!!!\")"
   ]
  },
  {
   "cell_type": "code",
   "execution_count": 3,
   "metadata": {
    "collapsed": false,
    "scrolled": true
   },
   "outputs": [
    {
     "name": "stdout",
     "output_type": "stream",
     "text": [
      "$SNORKELDB = sqlite:///babble_spouse_goldlabeled_tocopy.db\n"
     ]
    }
   ],
   "source": [
    "# Get DB connection string and add to globals\n",
    "# NOTE: $SNORKELDB must be set before any snorkel imports\n",
    "import os\n",
    "\n",
    "default_db_name = 'babble_' + config['domain'] + ('_debug' if config.get('debug', False) else '')\n",
    "DB_NAME = config.get('db_name', default_db_name)\n",
    "if 'postgres' in config and config['postgres']:\n",
    "    DB_TYPE = 'postgres'\n",
    "else:\n",
    "    DB_TYPE = 'sqlite'\n",
    "    DB_NAME += '.db'\n",
    "DB_ADDR = \"localhost:{0}\".format(config['db_port']) if 'db_port' in config else \"\"\n",
    "os.environ['SNORKELDB'] = '{0}://{1}/{2}'.format(DB_TYPE, DB_ADDR, DB_NAME)\n",
    "print(\"$SNORKELDB = {0}\".format(os.environ['SNORKELDB']))"
   ]
  },
  {
   "cell_type": "code",
   "execution_count": 4,
   "metadata": {
    "collapsed": false,
    "scrolled": true
   },
   "outputs": [
    {
     "name": "stdout",
     "output_type": "stream",
     "text": [
      "Overwriting domain=None to domain=spouse\n",
      "Overwriting lr=0.01 to lr=0.001\n",
      "Overwriting print_freq=1 to print_freq=5\n",
      "Overwriting l1_penalty=1.0 to l1_penalty=0\n",
      "Overwriting n_epochs=25 to n_epochs=20\n",
      "Overwriting disc_model_search_space=1 to disc_model_search_space=10\n",
      "Overwriting LF_acc_prior_weight_default=1.0 to LF_acc_prior_weight_default=0.5\n",
      "Overwriting init_class_prior=0 to init_class_prior=-1.15\n",
      "Overwriting reg_param=0.1 to reg_param=0.5\n",
      "Overwriting gold_explanations=False to gold_explanations=True\n",
      "Overwriting seed=0 to seed=1\n",
      "Overwriting splits=[0, 1, 2] to splits=[0, 1]\n",
      "Overwriting babbler_candidate_split=1 to babbler_candidate_split=[0, 1, 2]\n",
      "Overwriting disc_model_class=lstm to disc_model_class=logreg\n",
      "Using SpousePipeline object.\n"
     ]
    }
   ],
   "source": [
    "from snorkel import SnorkelSession\n",
    "session = SnorkelSession()\n",
    "\n",
    "# Resolve config conflicts (nb_config > local_config > global_config)\n",
    "from snorkel.contrib.pipelines import merge_configs, get_local_pipeline\n",
    "config = merge_configs(config)\n",
    "\n",
    "if config['debug']:\n",
    "    print(\"NOTE: --debug=True: modifying parameters...\")\n",
    "    config['max_docs'] = 100\n",
    "    config['gen_model_search_space'] = 2\n",
    "    config['disc_model_search_space'] = 2\n",
    "    config['gen_params_default']['epochs'] = 25\n",
    "    config['disc_params_default']['n_epochs'] = 5\n",
    "\n",
    "from snorkel.models import candidate_subclass\n",
    "candidate_class = candidate_subclass(config['candidate_name'], config['candidate_entities'])\n",
    "\n",
    "pipeline = get_local_pipeline(config['domain'])\n",
    "pipe = pipeline(session, candidate_class, config)"
   ]
  },
  {
   "cell_type": "code",
   "execution_count": 5,
   "metadata": {
    "collapsed": false
   },
   "outputs": [
    {
     "name": "stdout",
     "output_type": "stream",
     "text": [
      "22195\n",
      "2796\n",
      "2697\n"
     ]
    }
   ],
   "source": [
    "for split in [0,1,2]:\n",
    "    print(session.query(pipe.candidate_class).filter(\n",
    "        pipe.candidate_class.split == split).count())"
   ]
  },
  {
   "cell_type": "code",
   "execution_count": 6,
   "metadata": {
    "collapsed": false,
    "scrolled": true
   },
   "outputs": [],
   "source": [
    "# %time pipe.parse()"
   ]
  },
  {
   "cell_type": "code",
   "execution_count": 7,
   "metadata": {
    "collapsed": false,
    "scrolled": true
   },
   "outputs": [],
   "source": [
    "# %time pipe.extract()"
   ]
  },
  {
   "cell_type": "code",
   "execution_count": 8,
   "metadata": {
    "collapsed": false,
    "scrolled": true
   },
   "outputs": [],
   "source": [
    "# %time pipe.load_gold()"
   ]
  },
  {
   "cell_type": "code",
   "execution_count": 9,
   "metadata": {
    "collapsed": true,
    "scrolled": true
   },
   "outputs": [],
   "source": [
    "# %time pipe.featurize()"
   ]
  },
  {
   "cell_type": "code",
   "execution_count": 10,
   "metadata": {
    "collapsed": false,
    "scrolled": true
   },
   "outputs": [
    {
     "name": "stdout",
     "output_type": "stream",
     "text": [
      "Linking candidates...\n",
      "# CANDIDATES: 27688\n",
      "Building list of target candidate ids...\n",
      "Collected 30 unique target candidate ids from 30 explanations.\n",
      "Gathering desired candidates...\n",
      "Found 30/30 desired candidates\n",
      "Linking explanations to candidates...\n",
      "Linked 30/30 explanations\n",
      "Calling babbler...\n",
      "Created grammar with 597 rules\n",
      "CPU times: user 24.4 s, sys: 1.1 s, total: 25.5 s\n",
      "Wall time: 25.6 s\n"
     ]
    }
   ],
   "source": [
    "%time pipe.collect()"
   ]
  },
  {
   "cell_type": "code",
   "execution_count": 11,
   "metadata": {
    "collapsed": false,
    "scrolled": true
   },
   "outputs": [],
   "source": [
    "# %time pipe.label(clear=True)"
   ]
  },
  {
   "cell_type": "markdown",
   "metadata": {},
   "source": [
    "## Make X"
   ]
  },
  {
   "cell_type": "code",
   "execution_count": 12,
   "metadata": {
    "collapsed": false
   },
   "outputs": [],
   "source": [
    "TRAIN = 0\n",
    "DEV = 1\n",
    "TEST = 2\n",
    "\n",
    "train = [exp.candidate for exp in pipe.explanations]\n",
    "dev = session.query(pipe.candidate_class).filter(pipe.candidate_class.split == DEV).all()\n",
    "test = session.query(pipe.candidate_class).filter(pipe.candidate_class.split == TEST).all()"
   ]
  },
  {
   "cell_type": "code",
   "execution_count": 13,
   "metadata": {
    "collapsed": false
   },
   "outputs": [],
   "source": [
    "from snorkel.annotations import load_label_matrix\n",
    "\n",
    "Ls = []\n",
    "Ls.append(load_label_matrix(pipe.session, split=TRAIN))\n",
    "Ls.append(load_label_matrix(pipe.session, split=DEV))\n",
    "Ls.append(load_label_matrix(pipe.session, split=TEST))"
   ]
  },
  {
   "cell_type": "code",
   "execution_count": 14,
   "metadata": {
    "collapsed": false
   },
   "outputs": [],
   "source": [
    "from scipy.sparse import vstack\n",
    "\n",
    "def candidates_to_features(candidates, Ls):\n",
    "    for i, c in enumerate(candidates):\n",
    "        L = Ls[c.split]\n",
    "        row_idx = L.get_row_index(c)\n",
    "        features = L[row_idx,:]\n",
    "        if i == 0:\n",
    "            X = features\n",
    "        else:\n",
    "            X = vstack((X, features))\n",
    "    \n",
    "    # All features are indicators ({0,1})\n",
    "    print(\"WARNING: This has been modified so it no longer converts -1 -> 1\")\n",
    "#     X = abs(X.todense())\n",
    "    X = X.todense()\n",
    "    return X"
   ]
  },
  {
   "cell_type": "code",
   "execution_count": 15,
   "metadata": {
    "collapsed": false
   },
   "outputs": [
    {
     "name": "stdout",
     "output_type": "stream",
     "text": [
      "WARNING: This has been modified so it no longer converts -1 -> 1\n",
      "(30, 30)\n",
      "WARNING: This has been modified so it no longer converts -1 -> 1\n",
      "(2796, 30)\n",
      "WARNING: This has been modified so it no longer converts -1 -> 1\n",
      "(2697, 30)\n"
     ]
    }
   ],
   "source": [
    "X_train = candidates_to_features(train, Ls)\n",
    "print(X_train.shape)\n",
    "\n",
    "X_dev   = candidates_to_features(dev, Ls)\n",
    "print(X_dev.shape)\n",
    "\n",
    "X_test  = candidates_to_features(test, Ls)\n",
    "print(X_test.shape)"
   ]
  },
  {
   "cell_type": "code",
   "execution_count": 16,
   "metadata": {
    "collapsed": true
   },
   "outputs": [],
   "source": [
    "# X_train2 = np.zeros(X_train.shape)\n",
    "# for i, c in enumerate(train):\n",
    "#     for j, lf in enumerate(pipe.lfs):\n",
    "#         X_train2[i, j] = lf(c)\n",
    "#         if X_train2[i,j] != X_train[i,j]:\n",
    "#             import pdb; pdb.set_trace()"
   ]
  },
  {
   "cell_type": "code",
   "execution_count": 37,
   "metadata": {
    "collapsed": false
   },
   "outputs": [
    {
     "data": {
      "text/plain": [
       "array([ 0.        ,  0.        ,  0.5       ,  0.        ,  0.75      ,\n",
       "        1.        ,  0.        ,  0.        ,  1.        ,  0.        ,\n",
       "        0.        ,  0.        ,  0.5       ,  0.5       ,  0.66666667,\n",
       "        0.66666667,  0.66666667,  0.        ,  0.        ,  0.        ,\n",
       "        0.        ,  0.5       ,  0.33333333,  1.        ,  0.66666667,\n",
       "        0.66666667,  0.75      ,  0.5       ,  0.5       ,  0.75      ])"
      ]
     },
     "execution_count": 37,
     "metadata": {},
     "output_type": "execute_result"
    }
   ],
   "source": [
    "negatives = np.sum(np.where(X_train == -1, 1, 0), axis=1)\n",
    "positives = np.sum(np.where(X_train == 1, 1, 0), axis=1)\n",
    "marginals = np.divide(positives.astype(float), (positives + negatives))\n",
    "marginals"
   ]
  },
  {
   "cell_type": "code",
   "execution_count": 31,
   "metadata": {
    "collapsed": false
   },
   "outputs": [
    {
     "data": {
      "text/plain": [
       "matrix([[ 0, -1,  0,  0,  0,  0,  0,  0,  0,  0,  0,  0,  0,  0,  0,  0,  0,\n",
       "          0,  0,  0,  0,  0,  0,  0,  0,  0,  0,  0,  0,  0],\n",
       "        [ 0, -1,  0,  0,  0,  0,  0,  0,  0,  0,  0,  0,  0,  0,  0,  0,  0,\n",
       "          0,  0,  0,  0,  0,  0,  0,  0,  0,  0,  0,  0,  0],\n",
       "        [ 0, -1,  1,  0,  0,  0,  0,  0,  0,  0,  0,  0,  0,  0,  0,  0,  0,\n",
       "          0,  0,  0,  0,  0,  0,  0,  0,  0,  0,  0,  0,  0],\n",
       "        [ 0, -1,  0, -1,  0,  0,  0,  0,  0,  0,  0,  0,  0,  0,  0,  0,  0,\n",
       "          0,  0,  0,  0,  0,  0,  0,  0,  0,  0,  0,  0,  0],\n",
       "        [ 0, -1,  0,  0,  0,  0,  0,  0,  1,  0,  0,  0,  0,  0,  0,  0,  0,\n",
       "          0,  0,  0,  0,  0,  0,  0,  1,  0,  0,  0,  0,  1],\n",
       "        [ 0,  0,  0,  0,  0,  1,  0,  0,  0,  0,  0,  0,  0,  0,  0,  0,  0,\n",
       "          0,  0,  0,  0,  0,  0,  0,  0,  0,  0,  0,  0,  0],\n",
       "        [ 0, -1,  0,  0,  0,  0, -1,  0,  0,  0,  0,  0,  0,  0,  0,  0,  0,\n",
       "          0,  0,  0,  0,  0,  0,  0,  0,  0,  0,  0,  0,  0],\n",
       "        [ 0, -1,  0,  0,  0,  0,  0, -1,  0,  0,  0,  0,  0,  0,  0,  0,  0,\n",
       "          0,  0,  0,  0,  0,  0,  0,  0,  0,  0,  0,  0,  0],\n",
       "        [ 0,  0,  0,  0,  0,  0,  0,  0,  1,  0,  0,  0,  0,  0,  0,  0,  0,\n",
       "          0,  0,  0,  0,  0,  0,  0,  1,  0,  0,  0,  0,  0],\n",
       "        [ 0, -1,  0,  0,  0,  0,  0,  0,  0, -1,  0,  0,  0,  0,  0,  0,  0,\n",
       "          0,  0,  0,  0,  0,  0,  0,  0,  0,  0,  0,  0,  0],\n",
       "        [ 0, -1,  0,  0,  0,  0,  0,  0,  0,  0,  0,  0,  0,  0,  0,  0,  0,\n",
       "          0,  0,  0,  0,  0,  0,  0,  0,  0,  0,  0,  0,  0],\n",
       "        [ 0, -1,  0,  0,  0,  0,  0,  0,  0,  0,  0, -1,  0,  0,  0,  0,  0,\n",
       "          0,  0,  0,  0,  0,  0,  0,  0,  0,  0,  0,  0,  0],\n",
       "        [ 0, -1,  0,  0,  0,  0,  0,  0,  0,  0,  0,  0,  1,  0,  0,  0,  0,\n",
       "          0,  0,  0,  0,  0,  0,  0,  0,  0,  0,  0,  0,  0],\n",
       "        [ 0, -1,  0,  0,  0,  0,  0,  0,  0,  0,  0,  0,  0,  1,  0,  0,  0,\n",
       "          0,  0,  0,  0,  0,  0,  0,  0,  0,  0,  0,  0,  0],\n",
       "        [ 0, -1,  0,  0,  0,  0,  0,  0,  0,  0,  0,  0,  0,  0,  1,  1,  0,\n",
       "          0,  0,  0,  0,  0,  0,  0,  0,  0,  0,  0,  0,  0],\n",
       "        [ 0, -1,  0,  0,  0,  0,  0,  0,  0,  0,  0,  0,  0,  0,  1,  1,  0,\n",
       "          0,  0,  0,  0,  0,  0,  0,  0,  0,  0,  0,  0,  0],\n",
       "        [ 0, -1,  0,  0,  0,  0,  0,  0,  1,  0,  0,  0,  0,  0,  0,  0,  0,\n",
       "          0,  0,  0,  0,  0,  0,  0,  1,  0,  0,  0,  0,  0],\n",
       "        [ 0, -1,  0,  0,  0,  0,  0,  0,  0,  0,  0,  0,  0,  0,  0,  0,  0,\n",
       "          0,  0,  0,  0,  0,  0,  0,  0,  0,  0,  0,  0,  0],\n",
       "        [ 0,  0,  0,  0,  0,  0,  0,  0,  0,  0,  0,  0,  0,  0,  0,  0,  0,\n",
       "          0, -1,  0,  0,  0,  0,  0,  0,  0,  0,  0,  0,  0],\n",
       "        [ 0, -1,  0,  0,  0,  0,  0,  0,  0,  0,  0,  0,  0,  0,  0,  0,  0,\n",
       "          0,  0, -1,  0,  0,  0,  0,  0,  0,  0,  0,  0,  0],\n",
       "        [ 0, -1,  0,  0,  0,  0,  0,  0,  0,  0,  0,  0,  0,  0,  0,  0,  0,\n",
       "          0,  0,  0, -1,  0,  0,  0,  0,  0,  0,  0,  0,  0],\n",
       "        [ 0, -1,  0,  0,  0,  0,  0,  0,  0,  0,  0,  0,  0,  0,  0,  0,  0,\n",
       "          0,  0,  0,  0,  1,  0,  0,  0,  0,  0,  0,  0,  0],\n",
       "        [ 0, -1,  0,  0,  0,  0,  0,  0,  0,  0,  0,  0,  0,  0,  0,  0,  0,\n",
       "          0,  0,  0,  0,  0, -1,  0,  1,  0,  0,  0,  0,  0],\n",
       "        [ 0,  0,  0,  0,  0,  0,  0,  0,  0,  0,  0,  0,  0,  0,  0,  0,  0,\n",
       "          0,  0,  0,  0,  0,  0,  1,  0,  0,  0,  0,  0,  0],\n",
       "        [ 0, -1,  0,  0,  0,  0,  0,  0,  1,  0,  0,  0,  0,  0,  0,  0,  0,\n",
       "          0,  0,  0,  0,  0,  0,  0,  1,  0,  0,  0,  0,  0],\n",
       "        [ 0, -1,  0,  0,  0,  0,  0,  0,  0,  0,  0,  0,  0,  0,  1,  1,  0,\n",
       "          0,  0,  0,  0,  0,  0,  0,  0,  0,  0,  0,  0,  0],\n",
       "        [ 0, -1,  0,  0,  0,  0,  0,  0,  0,  0,  0,  0,  0,  0,  1,  1,  0,\n",
       "          0,  0,  0,  0,  0,  0,  0,  0,  0,  1,  0,  0,  0],\n",
       "        [ 0, -1,  0,  0,  0,  0,  0,  0,  0,  0,  0,  0,  0,  0,  0,  0,  0,\n",
       "          0,  0,  0,  0,  0,  0,  0,  0,  0,  0,  1,  0,  0],\n",
       "        [ 0, -1,  0,  0,  0,  0,  0,  0,  0,  0,  0,  0,  0,  0,  0,  0,  0,\n",
       "          0,  0,  0,  0,  0,  0,  0,  0,  0,  0,  0,  1,  0],\n",
       "        [ 0, -1,  0,  0,  0,  0,  0,  0,  1,  0,  0,  0,  0,  0,  0,  0,  0,\n",
       "          0,  0,  0,  0,  0,  0,  0,  1,  0,  0,  0,  0,  1]])"
      ]
     },
     "execution_count": 31,
     "metadata": {},
     "output_type": "execute_result"
    }
   ],
   "source": [
    "X_train"
   ]
  },
  {
   "cell_type": "code",
   "execution_count": 40,
   "metadata": {
    "collapsed": false
   },
   "outputs": [
    {
     "data": {
      "text/plain": [
       "matrix([[ 0.        ],\n",
       "        [ 0.        ],\n",
       "        [ 0.5       ],\n",
       "        [ 0.        ],\n",
       "        [ 0.75      ],\n",
       "        [ 1.        ],\n",
       "        [ 0.        ],\n",
       "        [ 0.        ],\n",
       "        [ 1.        ],\n",
       "        [ 0.        ],\n",
       "        [ 0.        ],\n",
       "        [ 0.        ],\n",
       "        [ 0.5       ],\n",
       "        [ 0.5       ],\n",
       "        [ 0.66666667],\n",
       "        [ 0.66666667],\n",
       "        [ 0.66666667],\n",
       "        [ 0.        ],\n",
       "        [ 0.        ],\n",
       "        [ 0.        ],\n",
       "        [ 0.        ],\n",
       "        [ 0.5       ],\n",
       "        [ 0.33333333],\n",
       "        [ 1.        ],\n",
       "        [ 0.66666667],\n",
       "        [ 0.66666667],\n",
       "        [ 0.75      ],\n",
       "        [ 0.5       ],\n",
       "        [ 0.5       ],\n",
       "        [ 0.75      ]])"
      ]
     },
     "execution_count": 40,
     "metadata": {},
     "output_type": "execute_result"
    }
   ],
   "source": [
    "X = X_train\n",
    "net_votes = np.sum(X, axis=1)\n",
    "num_votes = np.sum(abs(X), axis=1)\n",
    "marginals = np.divide(net_votes + num_votes, 2.0 * num_votes)\n",
    "marginals"
   ]
  },
  {
   "cell_type": "code",
   "execution_count": 44,
   "metadata": {
    "collapsed": false
   },
   "outputs": [
    {
     "data": {
      "text/plain": [
       "array([ 0.        ,  0.        ,  0.5       ,  0.        ,  0.75      ,\n",
       "               nan,  0.        ,  0.        ,  1.        ,  0.        ,\n",
       "        0.        ,  0.        ,  0.5       ,  0.5       ,  0.66666667,\n",
       "        0.66666667,  0.66666667,  0.        ,  0.        ,  0.        ,\n",
       "        0.        ,  0.5       ,  0.33333333,  1.        ,  0.66666667,\n",
       "        0.66666667,  0.75      ,  0.5       ,  0.5       ,  0.75      ])"
      ]
     },
     "execution_count": 44,
     "metadata": {},
     "output_type": "execute_result"
    }
   ],
   "source": [
    "a = np.ravel(marginals)\n",
    "a[5] = np.nan\n",
    "a"
   ]
  },
  {
   "cell_type": "code",
   "execution_count": 45,
   "metadata": {
    "collapsed": false
   },
   "outputs": [
    {
     "data": {
      "text/plain": [
       "array([ 0.        ,  0.        ,  0.5       ,  0.        ,  0.75      ,\n",
       "        0.5       ,  0.        ,  0.        ,  1.        ,  0.        ,\n",
       "        0.        ,  0.        ,  0.5       ,  0.5       ,  0.66666667,\n",
       "        0.66666667,  0.66666667,  0.        ,  0.        ,  0.        ,\n",
       "        0.        ,  0.5       ,  0.33333333,  1.        ,  0.66666667,\n",
       "        0.66666667,  0.75      ,  0.5       ,  0.5       ,  0.75      ])"
      ]
     },
     "execution_count": 45,
     "metadata": {},
     "output_type": "execute_result"
    }
   ],
   "source": [
    "a[np.where(np.isnan(a))] = 0.5\n",
    "a"
   ]
  },
  {
   "cell_type": "markdown",
   "metadata": {},
   "source": [
    "## Make y"
   ]
  },
  {
   "cell_type": "code",
   "execution_count": 17,
   "metadata": {
    "collapsed": false
   },
   "outputs": [],
   "source": [
    "from snorkel.annotations import load_gold_labels\n",
    "\n",
    "L_golds = []\n",
    "L_golds.append(load_gold_labels(pipe.session, annotator_name='gold', split=TRAIN))\n",
    "L_golds.append(load_gold_labels(pipe.session, annotator_name='gold', split=DEV))\n",
    "L_golds.append(load_gold_labels(pipe.session, annotator_name='gold', split=TEST))"
   ]
  },
  {
   "cell_type": "code",
   "execution_count": 18,
   "metadata": {
    "collapsed": false
   },
   "outputs": [
    {
     "name": "stdout",
     "output_type": "stream",
     "text": [
      "WARNING: This has been modified so it no longer converts -1 -> 0\n"
     ]
    }
   ],
   "source": [
    "import numpy as np\n",
    "\n",
    "print(\"WARNING: This has been modified so it no longer converts -1 -> 0\")\n",
    "\n",
    "def candidates_to_labels(candidates, L_golds):\n",
    "    labels = []\n",
    "    for i, c in enumerate(candidates):\n",
    "        L_gold = L_golds[c.split]\n",
    "        row_idx = L_gold.get_row_index(c)\n",
    "        label = L_gold[row_idx,0]\n",
    "#         if label == -1:\n",
    "#             label = 0\n",
    "        labels.append(label)\n",
    "    y = np.array(labels)\n",
    "    return y"
   ]
  },
  {
   "cell_type": "code",
   "execution_count": 19,
   "metadata": {
    "collapsed": false,
    "scrolled": true
   },
   "outputs": [
    {
     "name": "stdout",
     "output_type": "stream",
     "text": [
      "(30,)\n",
      "(2796,)\n",
      "(2697,)\n"
     ]
    }
   ],
   "source": [
    "y_train = np.array([int(exp.label)*2 - 1 for exp in pipe.explanations])\n",
    "print(y_train.shape)\n",
    "\n",
    "y_dev   = candidates_to_labels(dev, L_golds)\n",
    "print(y_dev.shape)\n",
    "\n",
    "y_test  = candidates_to_labels(test, L_golds)\n",
    "print(y_test.shape)"
   ]
  },
  {
   "cell_type": "code",
   "execution_count": 20,
   "metadata": {
    "collapsed": false
   },
   "outputs": [
    {
     "name": "stdout",
     "output_type": "stream",
     "text": [
      "0.133333333333\n",
      "-0.859799713877\n",
      "-0.833889506859\n"
     ]
    }
   ],
   "source": [
    "print(sum(y_train)/float(len(y_train)))\n",
    "print(sum(y_dev)/float(len(y_dev)))\n",
    "print(sum(y_test)/float(len(y_test)))"
   ]
  },
  {
   "cell_type": "code",
   "execution_count": 21,
   "metadata": {
    "collapsed": false
   },
   "outputs": [
    {
     "data": {
      "text/plain": [
       "array([-1, -1,  1, -1,  1,  1, -1, -1,  1, -1, -1, -1,  1,  1,  1,  1,  1,\n",
       "       -1, -1, -1, -1,  1, -1,  1,  1,  1,  1,  1,  1,  1])"
      ]
     },
     "execution_count": 21,
     "metadata": {},
     "output_type": "execute_result"
    }
   ],
   "source": [
    "y_train"
   ]
  },
  {
   "cell_type": "code",
   "execution_count": 28,
   "metadata": {
    "collapsed": false
   },
   "outputs": [
    {
     "name": "stdout",
     "output_type": "stream",
     "text": [
      "nan, 0.0\n",
      "46.2, 86.7\n",
      "100.0, 3.3\n",
      "100.0, 3.3\n",
      "nan, 0.0\n",
      "100.0, 3.3\n",
      "100.0, 3.3\n",
      "100.0, 3.3\n",
      "100.0, 16.7\n",
      "100.0, 3.3\n",
      "nan, 0.0\n",
      "100.0, 3.3\n",
      "100.0, 3.3\n",
      "100.0, 3.3\n",
      "100.0, 13.3\n",
      "100.0, 13.3\n",
      "nan, 0.0\n",
      "nan, 0.0\n",
      "100.0, 3.3\n",
      "100.0, 3.3\n",
      "100.0, 3.3\n",
      "100.0, 3.3\n",
      "100.0, 3.3\n",
      "100.0, 3.3\n",
      "83.3, 20.0\n",
      "nan, 0.0\n",
      "100.0, 3.3\n",
      "100.0, 3.3\n",
      "100.0, 3.3\n",
      "100.0, 6.7\n",
      "Explanation(\"LF1: False, person2 occurs in a phrase surrounded by quotes\")\n",
      "return -1 if ('\"'.in(text(greater than 0 word(s) to the left of Y)) and '\"'.in(text(greater than 0 word(s) to the right of Y))) else 0\n",
      "Explanation(\"LF5: True, person2 is the subject of the sentence and person1 is immediately preceded by 'husband'\")\n",
      "return -1 if False.(= True) else 0\n",
      "Explanation(\"LF11: False, person2 is an empty string.\")\n",
      "return -1 if text(Y).(= '  ') else 0\n",
      "Explanation(\"LF17: True, 'and' is between person1 and person2, and 'their son' comes less than 10 words after person1 and person2.\")\n",
      "return 1 if ('and'.in(text(between([X,Y]))) and 'their son'.(all([in(text(less than 10 word(s) to the right of X)),in(text(less than 10 word(s) to the right of Y))]))) else 0\n",
      "Explanation(\"LF18: False, person1 and person2 are not people.\")\n",
      "return -1 if False.(= True) else 0\n",
      "Explanation(\"LF26: True, 'wife' appears between person1 and person2 and the last word of person1 is the same as the last word of person2\")\n",
      "return 1 if ('wife'.in(text(between([X,Y]))) and text(X)[-1].(= text(Y)[-1])) else 0\n"
     ]
    }
   ],
   "source": [
    "accs = []\n",
    "covs = []\n",
    "\n",
    "for i in range(X_train.shape[1]):\n",
    "    sig = np.squeeze(np.asarray(X_train[:,i]))\n",
    "    correct = 0\n",
    "    incorrect = 0\n",
    "    for j, label in enumerate(sig):\n",
    "        if label:\n",
    "            if y_train[j] == label:\n",
    "                correct += 1\n",
    "            else:\n",
    "                incorrect += 1\n",
    "    if correct + incorrect > 0:\n",
    "        acc = float(correct)/(correct + incorrect)\n",
    "    else:\n",
    "        acc = np.nan\n",
    "    cov = float(correct + incorrect)/len(y_train)\n",
    "    covs.append(cov)\n",
    "    accs.append(acc)\n",
    "\n",
    "for a, c in zip(accs, covs):\n",
    "    print(\"{:.1f}, {:.1f}\".format(a * 100, c * 100))\n",
    "    \n",
    "for i, a in enumerate(accs):\n",
    "    if np.isnan(a):\n",
    "        print(pipe.explanations[i])\n",
    "        print(pipe.babbler.semparser.grammar.translate(pipe.explanations[i].semantics))"
   ]
  },
  {
   "cell_type": "markdown",
   "metadata": {},
   "source": [
    "## Train and Test"
   ]
  },
  {
   "cell_type": "code",
   "execution_count": null,
   "metadata": {
    "collapsed": false
   },
   "outputs": [],
   "source": [
    "from sklearn.linear_model import LogisticRegression\n",
    "from sklearn.metrics import f1_score\n",
    "\n",
    "best = -1\n",
    "for C in [1, 5, 10, 50, 100, 500, 1000, 10000]:\n",
    "    logreg = LogisticRegression(C=C)\n",
    "    logreg.fit(X_train, y_train)\n",
    "    y_pred = logreg.predict(X_dev)\n",
    "    if sum(y_pred) == 0:\n",
    "        f1 = 0\n",
    "    else:\n",
    "        f1 = f1_score(y_dev, y_pred)\n",
    "    print(\"[C = {}]: f1 = {}\".format(C, f1))\n",
    "    if f1 > best:\n",
    "        best = f1\n",
    "        best_C = C\n",
    "        \n",
    "print(\"\\nUsing C = {}\".format(best_C))"
   ]
  },
  {
   "cell_type": "code",
   "execution_count": null,
   "metadata": {
    "collapsed": false,
    "scrolled": true
   },
   "outputs": [],
   "source": [
    "# for i, j in zip(y_dev, y_pred):\n",
    "#     print((i,j))"
   ]
  },
  {
   "cell_type": "code",
   "execution_count": null,
   "metadata": {
    "collapsed": false
   },
   "outputs": [],
   "source": [
    "logreg.set_params(C=best_C)\n",
    "y_pred = logreg.predict(X_test)\n",
    "\n",
    "f1 = f1_score(y_test, y_pred)\n",
    "print(\"Test F1 = {:.5f}\".format(f1))"
   ]
  },
  {
   "cell_type": "code",
   "execution_count": null,
   "metadata": {
    "collapsed": false
   },
   "outputs": [],
   "source": [
    "def homemade_f1(y_test, y_pred):\n",
    "    tp = fp = tn = fn = 0\n",
    "    for i, j in zip(y_test, y_pred):\n",
    "        if i == j:\n",
    "            if i == 1:\n",
    "                tp += 1\n",
    "            else:\n",
    "                tn += 1\n",
    "        else:\n",
    "            if i == 0:\n",
    "                fp += 1\n",
    "            else:\n",
    "                fn += 1\n",
    "    p = float(tp)/(tp + fp)\n",
    "    r = float(tp)/(tp + fn)\n",
    "    f1 = float(2*p*r)/(p + r)\n",
    "    return f1"
   ]
  },
  {
   "cell_type": "code",
   "execution_count": null,
   "metadata": {
    "collapsed": false
   },
   "outputs": [],
   "source": [
    "print(homemade_f1(y_test, y_pred))"
   ]
  },
  {
   "cell_type": "markdown",
   "metadata": {},
   "source": [
    "## Try Snorkel LogReg model"
   ]
  },
  {
   "cell_type": "code",
   "execution_count": null,
   "metadata": {
    "collapsed": true
   },
   "outputs": [],
   "source": [
    "from snorkel.learning import LogisticRegression"
   ]
  },
  {
   "cell_type": "code",
   "execution_count": null,
   "metadata": {
    "collapsed": false,
    "scrolled": false
   },
   "outputs": [],
   "source": [
    "slogreg = LogisticRegression()\n",
    "\n",
    "for l2_penalty in [1e-3, 1e-2, 1e-1, 1, 10, 0]:\n",
    "    slogreg.train(X_train, y_train, lr=0.001, batch_size=32, n_epochs=100)\n",
    "    p, r, f1 = slogreg.score(X_test, y_test)\n",
    "    print(\"F1 = {}\".format(f1))"
   ]
  },
  {
   "cell_type": "code",
   "execution_count": null,
   "metadata": {
    "collapsed": false
   },
   "outputs": [],
   "source": [
    "p, r, f1 = slogreg.score(X_test, y_test)\n",
    "print(\"F1 = {}\".format(f1))"
   ]
  },
  {
   "cell_type": "code",
   "execution_count": null,
   "metadata": {
    "collapsed": true
   },
   "outputs": [],
   "source": []
  }
 ],
 "metadata": {
  "kernelspec": {
   "display_name": "Python 2",
   "language": "python",
   "name": "python2"
  },
  "language_info": {
   "codemirror_mode": {
    "name": "ipython",
    "version": 2
   },
   "file_extension": ".py",
   "mimetype": "text/x-python",
   "name": "python",
   "nbconvert_exporter": "python",
   "pygments_lexer": "ipython2",
   "version": "2.7.14"
  }
 },
 "nbformat": 4,
 "nbformat_minor": 2
}
