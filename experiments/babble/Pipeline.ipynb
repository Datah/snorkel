{
 "cells": [
  {
   "cell_type": "code",
   "execution_count": 1,
   "metadata": {
    "collapsed": false
   },
   "outputs": [],
   "source": [
    "%load_ext autoreload\n",
    "%autoreload 2\n",
    "%matplotlib inline\n",
    "\n",
    "import numpy as np"
   ]
  },
  {
   "cell_type": "code",
   "execution_count": 2,
   "metadata": {
    "collapsed": false
   },
   "outputs": [],
   "source": [
    "config = {\n",
    "    'project': 'babble',\n",
    "    'domain': 'cdr',\n",
    "    'db_name': 'babble_cdr_labeled',\n",
    "    'splits': [0,1],\n",
    "    'gold_explanations': True,\n",
    "    'supervision': 'dp',\n",
    "    'gen_model_search_space': 1,\n",
    "    'gen_f_beta': 1.0,\n",
    "#     'gen_init_params': {\n",
    "#         'class_prior'           : True,\n",
    "#         'lf_prior'              : False, \n",
    "#         'lf_propensity'         : True,\n",
    "#         'lf_class_propensity'   : False,\n",
    "#         'seed'                  : None,\n",
    "#     },\n",
    "#     'gen_params_range': {\n",
    "#         'step_size'     : [0.01, 0.05, 0.1, 0.25],\n",
    "#         'reg_param'     : [0.0, 0.1, 0.25, 0.5, 1.0],\n",
    "#     },\n",
    "#     'gen_params_default': {\n",
    "#         'step_size'     : 0.01,\n",
    "#         'reg_param'     : 0.25, \n",
    "#         'epochs'         : 0,\n",
    "#     },\n",
    "    'tune_b': True,\n",
    "    'disc_model_class': 'logreg',\n",
    "    'disc_model_search_space': 1,\n",
    "#     'disc_params_default': {\n",
    "#         'lr': 0.001,\n",
    "#         'l2_penalty': 0.001,\n",
    "#         'rebalance': 0,\n",
    "#         'batch_size': 32\n",
    "#     }\n",
    "}\n",
    "# init_class_prior: ? spouse, ? cdr, -1.39 protein"
   ]
  },
  {
   "cell_type": "code",
   "execution_count": 3,
   "metadata": {
    "collapsed": false,
    "scrolled": true
   },
   "outputs": [
    {
     "name": "stdout",
     "output_type": "stream",
     "text": [
      "$SNORKELDB = sqlite:///babble_cdr_labeled.db\n"
     ]
    }
   ],
   "source": [
    "# Get DB connection string and add to globals\n",
    "# NOTE: $SNORKELDB must be set before any snorkel imports\n",
    "import os\n",
    "\n",
    "default_db_name = 'babble_' + config['domain'] + ('_debug' if config.get('debug', False) else '')\n",
    "DB_NAME = config.get('db_name', default_db_name)\n",
    "if 'postgres' in config and config['postgres']:\n",
    "    DB_TYPE = 'postgres'\n",
    "else:\n",
    "    DB_TYPE = 'sqlite'\n",
    "    DB_NAME += '.db'\n",
    "DB_ADDR = \"localhost:{0}\".format(config['db_port']) if 'db_port' in config else \"\"\n",
    "os.environ['SNORKELDB'] = '{0}://{1}/{2}'.format(DB_TYPE, DB_ADDR, DB_NAME)\n",
    "print(\"$SNORKELDB = {0}\".format(os.environ['SNORKELDB']))"
   ]
  },
  {
   "cell_type": "code",
   "execution_count": 4,
   "metadata": {
    "collapsed": false,
    "scrolled": true
   },
   "outputs": [
    {
     "name": "stdout",
     "output_type": "stream",
     "text": [
      "Overwriting disc_model_search_space=10 to disc_model_search_space=1\n",
      "Overwriting tune_b=False to tune_b=True\n",
      "Overwriting domain=None to domain=cdr\n",
      "Overwriting print_freq=1 to print_freq=5\n",
      "Overwriting l2_penalty=1.0 to l2_penalty=10\n",
      "Overwriting rebalance=0.25 to rebalance=0\n",
      "Overwriting l1_penalty=1.0 to l1_penalty=0\n",
      "Overwriting n_epochs=25 to n_epochs=20\n",
      "Overwriting epochs=500 to epochs=0\n",
      "Overwriting reg_param=0.25 to reg_param=0.5\n",
      "Overwriting gold_explanations=False to gold_explanations=True\n",
      "Overwriting babbler_candidate_split=1 to babbler_candidate_split=[0, 1, 2]\n",
      "Overwriting disc_model_class=lstm to disc_model_class=logreg\n",
      "Overwriting supervision=generative to supervision=metal\n",
      "Overwriting seed=None to seed=123\n",
      "Using CdrPipeline object.\n"
     ]
    }
   ],
   "source": [
    "from snorkel import SnorkelSession\n",
    "session = SnorkelSession()\n",
    "\n",
    "# Resolve config conflicts (nb_config > local_config > global_config)\n",
    "from snorkel.contrib.pipelines import merge_configs, get_local_pipeline\n",
    "config = merge_configs(config)\n",
    "\n",
    "from snorkel.models import candidate_subclass\n",
    "candidate_class = candidate_subclass(config['candidate_name'], config['candidate_entities'])\n",
    "\n",
    "pipeline = get_local_pipeline(config['domain'])\n",
    "pipe = pipeline(session, candidate_class, config)"
   ]
  },
  {
   "cell_type": "code",
   "execution_count": 5,
   "metadata": {
    "collapsed": false,
    "scrolled": true
   },
   "outputs": [],
   "source": [
    "# %time pipe.parse()"
   ]
  },
  {
   "cell_type": "code",
   "execution_count": 6,
   "metadata": {
    "collapsed": false,
    "scrolled": false
   },
   "outputs": [],
   "source": [
    "# %time pipe.extract()"
   ]
  },
  {
   "cell_type": "code",
   "execution_count": 7,
   "metadata": {
    "collapsed": false
   },
   "outputs": [],
   "source": [
    "# for split in [0,1,2]:\n",
    "#     print(session.query(pipe.candidate_class).filter(\n",
    "#         pipe.candidate_class.split == split).count())"
   ]
  },
  {
   "cell_type": "code",
   "execution_count": 8,
   "metadata": {
    "collapsed": false,
    "scrolled": false
   },
   "outputs": [],
   "source": [
    "# %time pipe.load_gold()"
   ]
  },
  {
   "cell_type": "code",
   "execution_count": 9,
   "metadata": {
    "collapsed": true,
    "scrolled": true
   },
   "outputs": [],
   "source": [
    "# %time pipe.featurize()"
   ]
  },
  {
   "cell_type": "code",
   "execution_count": 10,
   "metadata": {
    "collapsed": false,
    "scrolled": true
   },
   "outputs": [],
   "source": [
    "# %time pipe.collect()"
   ]
  },
  {
   "cell_type": "code",
   "execution_count": 11,
   "metadata": {
    "collapsed": false,
    "scrolled": false
   },
   "outputs": [],
   "source": [
    "# %time pipe.label()"
   ]
  },
  {
   "cell_type": "code",
   "execution_count": 12,
   "metadata": {
    "collapsed": false,
    "scrolled": false
   },
   "outputs": [
    {
     "name": "stdout",
     "output_type": "stream",
     "text": [
      "Using L_train: <6667x28 sparse matrix of type '<type 'numpy.int64'>'\n",
      "\twith 24177 stored elements in Compressed Sparse Row format>\n",
      "Using L_gold_train: <6667x1 sparse matrix of type '<type 'numpy.int64'>'\n",
      "\twith 6667 stored elements in Compressed Sparse Row format>\n",
      "Positive Fraction: 20.9%\n",
      "\n",
      "Using L_dev: <773x28 sparse matrix of type '<type 'numpy.int64'>'\n",
      "\twith 2863 stored elements in Compressed Sparse Row format>\n",
      "Using L_gold_dev: <773x1 sparse matrix of type '<type 'numpy.int64'>'\n",
      "\twith 773 stored elements in Compressed Sparse Row format>\n",
      "Positive Fraction: 20.6%\n",
      "\n",
      "Using L_test: <4101x28 sparse matrix of type '<type 'numpy.int64'>'\n",
      "\twith 14555 stored elements in Compressed Sparse Row format>\n",
      "Using L_gold_test: <4101x1 sparse matrix of type '<type 'numpy.int64'>'\n",
      "\twith 4101 stored elements in Compressed Sparse Row format>\n",
      "Positive Fraction: 22.8%\n",
      "\n",
      "Grid search over {'step_size': [0.01], 'l2': [0.5]}:\n",
      ">>> Training for {'step_size': 0.01, 'l2': 0.5}:\n",
      "Training completed.\n",
      "Saving model @ score = 0.43842364532.\n",
      "Restoring model for {'step_size': 0.01, 'l2': 0.5}.\n",
      "DP on dev set: P=0.360 | R=0.560 | F1=0.438\n",
      "DP on test set: P=0.410 | R=0.559 | F1=0.473\n",
      "Saved 6667 marginals\n"
     ]
    },
    {
     "data": {
      "image/png": "[encoded data removed]",
      "text/plain": [
       "<matplotlib.figure.Figure at 0x10e9a5290>"
      ]
     },
     "metadata": {},
     "output_type": "display_data"
    },
    {
     "name": "stdout",
     "output_type": "stream",
     "text": [
      "CPU times: user 5.84 s, sys: 96.4 ms, total: 5.94 s\n",
      "Wall time: 5.94 s\n"
     ]
    }
   ],
   "source": [
    "%time pipe.supervise()"
   ]
  },
  {
   "cell_type": "code",
   "execution_count": 13,
   "metadata": {
    "collapsed": false,
    "scrolled": true
   },
   "outputs": [
    {
     "name": "stdout",
     "output_type": "stream",
     "text": [
      "(6667,)\n"
     ]
    },
    {
     "data": {
      "image/png": "[encoded data removed]",
      "text/plain": [
       "<matplotlib.figure.Figure at 0x10c7580d0>"
      ]
     },
     "metadata": {},
     "output_type": "display_data"
    },
    {
     "name": "stdout",
     "output_type": "stream",
     "text": [
      "### [7.1] Begin training discriminative model\n",
      "Skipping grid search.\n",
      "[SparseLogisticRegression] Training model\n",
      "[SparseLogisticRegression] n_train=4971  #epochs=20  batch size=32\n",
      "[SparseLogi...] Epoch 0 (0.56s) \tTrain Loss=8135.245\tDev F1=41.65\n",
      "[SparseLogi...] Epoch 5 (3.33s) \tTrain Loss=14207.895\tDev F1=42.45\n",
      "[SparseLogi...] Epoch 10 (6.16s) \tTrain Loss=17857.035\tDev F1=41.41\n",
      "[SparseLogi...] Epoch 15 (8.98s) \tTrain Loss=19897.449\tDev F1=42.72\n",
      "[SparseLogi...] Epoch 19 (11.25s) \tTrain Loss=21738.121\tDev F1=40.19\n",
      "[SparseLogisticRegression] Model saved as <SparseLogisticRegression>\n",
      "[SparseLogisticRegression] Training done (11.61s)\n",
      "[SparseLogisticRegression] Loaded model <SparseLogisticRegression>\n",
      "[SparseLogisticRegression] Model saved as <discriminative_cdr>\n",
      "### Done in 12.4s.\n",
      "\n",
      "Disc on dev set (opt_b=0.25): P=0.289 | R=0.667 | F1=0.403\n",
      "### [7.3] Evaluate discriminative model (opt_b=0.25)\n",
      "Disc on test set (opt_b=0.25): P=0.314 | R=0.685 | F1=0.431\n",
      "### Done in 0.1s.\n",
      "\n",
      "Final performance on TEST:\n",
      "      F1 Score  Precision    Recall\n",
      "Disc  0.430635   0.314062  0.684829\n",
      "Gen   0.473089   0.410196  0.558761\n",
      "CPU times: user 35.6 s, sys: 5.17 s, total: 40.8 s\n",
      "Wall time: 28.9 s\n"
     ]
    }
   ],
   "source": [
    "%time pipe.classify()"
   ]
  },
  {
   "cell_type": "code",
   "execution_count": 14,
   "metadata": {
    "collapsed": true
   },
   "outputs": [],
   "source": [
    "w, b = pipe.disc_model.get_weights()\n",
    "top_w = sorted(zip(w, range(len(w))), reverse=True)"
   ]
  },
  {
   "cell_type": "code",
   "execution_count": 15,
   "metadata": {
    "collapsed": true
   },
   "outputs": [],
   "source": [
    "from snorkel.annotations import load_feature_matrix\n",
    "\n",
    "X_train = load_feature_matrix(pipe.session, split=pipe.config['traditional_split'])"
   ]
  },
  {
   "cell_type": "code",
   "execution_count": 18,
   "metadata": {
    "collapsed": false,
    "scrolled": false
   },
   "outputs": [
    {
     "name": "stdout",
     "output_type": "stream",
     "text": [
      "(-0.83226359, FeatureKey (TDL_LEMMA:BETWEEN-MENTION-and-MENTION[resistant]))\n",
      "(-0.83284986, FeatureKey (TDL_INV_DEP_LABEL|LEMMA:BETWEEN-MENTION-and-MENTION[prep|of dobj|protection prep|against]))\n",
      "(-0.83358681, FeatureKey (TDL_INV_LEMMA:SEQ-BETWEEN[after sodium]))\n",
      "(-0.83690602, FeatureKey (TDL_LEMMA:BETWEEN-MENTION-and-MENTION[rat]))\n",
      "(-0.83780932, FeatureKey (TDL_INV_DEP_LABEL|LEMMA:BETWEEN-MENTION-and-MENTION[ROOT|take]))\n",
      "(-0.83899432, FeatureKey (TDL_DEP_LABEL|LEMMA:BETWEEN-MENTION-and-MENTION[pobj|atropine acl|prevent dobj|occurrence]))\n",
      "(-0.83921063, FeatureKey (TDL_LEMMA:BETWEEN-MENTION-and-MENTION[of prevent arrhythmia]))\n",
      "(-0.84075052, FeatureKey (TDL_LEMMA:BETWEEN-MENTION-and-MENTION[atropine prevent occurrence]))\n",
      "(-0.84186089, FeatureKey (TDL_LEMMA:BETWEEN-MENTION-and-MENTION[sign induce]))\n",
      "(-0.84317958, FeatureKey (TDL_LEMMA:PARENTS-OF-BETWEEN-MENTION-and-MENTION[association between]))\n",
      "(-0.84549659, FeatureKey (TDL_INV_DEP_LABEL:BETWEEN-MENTION-and-MENTION[prep conj nmod]))\n",
      "(-0.84579593, FeatureKey (TDL_LEMMA:PARENTS-OF-BETWEEN-MENTION-and-MENTION[consist suggest be]))\n",
      "(-0.84686846, FeatureKey (TDL_INV_LEMMA:PARENTS-OF-BETWEEN-MENTION-and-MENTION[supplementation]))\n",
      "(-0.84714335, FeatureKey (TDL_LEMMA:BETWEEN-MENTION-and-MENTION[rat of amnesia]))\n",
      "(-0.84791028, FeatureKey (TDL_LEMMA:SEQ-BETWEEN[cardiac arrest and]))\n",
      "(-0.84872079, FeatureKey (TDL_INV_DEP_LABEL|LEMMA:BETWEEN-MENTION-and-MENTION[nsubj|rat prep|of dobj|protection]))\n",
      "(-0.85239893, FeatureKey (TDL_INV_LEMMA:BETWEEN-MENTION-and-MENTION[submit to prevention]))\n",
      "(-0.85289437, FeatureKey (TDL_DEP_LABEL|LEMMA:BETWEEN-MENTION-and-MENTION[ROOT|loss]))\n",
      "(-0.85370886, FeatureKey (TDL_LEMMA:BETWEEN-MENTION-and-MENTION[resistance implication infect]))\n",
      "(-0.85475552, FeatureKey (TDL_LEMMA:PARENTS-OF-BETWEEN-MENTION-and-MENTION[improve]))\n",
      "(-0.85636324, FeatureKey (TDL_LEMMA:SEQ-BETWEEN[) prevention]))\n",
      "(-0.85682189, FeatureKey (TDL_LEMMA:SEQ-BETWEEN[treat]))\n",
      "(-0.85764539, FeatureKey (TDL_DEP_LABEL:BETWEEN-MENTION-and-MENTION[prep advcl dobj]))\n",
      "(-0.8642267, FeatureKey (TDL_INV_LEMMA:BETWEEN-MENTION-and-MENTION[of protection]))\n",
      "(-0.86531401, FeatureKey (TDL_INV_LEMMA:PARENTS-OF-BETWEEN-MENTION-and-MENTION[produce effect complete]))\n",
      "(-0.86550748, FeatureKey (TDL_INV_DEP_LABEL|LEMMA:BETWEEN-MENTION-and-MENTION[nsubj|movement punct|;]))\n",
      "(-0.87079448, FeatureKey (TDL_LEMMA:PARENTS-OF-BETWEEN-MENTION-and-MENTION[of role of]))\n",
      "(-0.87101555, FeatureKey (TDL_INV_DEP_LABEL|LEMMA:BETWEEN-MENTION-and-MENTION[nsubj|movement]))\n",
      "(-0.87235081, FeatureKey (TDL_INV_DEP_LABEL|LEMMA:BETWEEN-MENTION-and-MENTION[ROOT|occur nsubj|movement]))\n",
      "(-0.87239599, FeatureKey (TDL_LEMMA:PARENTS-OF-BETWEEN-MENTION-and-MENTION[syndrome induce]))\n",
      "(-0.87648457, FeatureKey (TDL_LEMMA:PARENTS-OF-BETWEEN-MENTION-and-MENTION[be patient with]))\n",
      "(-0.87784177, FeatureKey (TDL_INV_LEMMA:PARENTS-OF-BETWEEN-MENTION-and-MENTION[against amnesia]))\n",
      "(-0.87935644, FeatureKey (TDL_LEMMA:SEQ-BETWEEN[resistant]))\n",
      "(-0.87959927, FeatureKey (TDL_LEMMA:PARENTS-OF-BETWEEN-MENTION-and-MENTION[consist suggest]))\n",
      "(-0.87982106, FeatureKey (TDL_INV_LEMMA:BETWEEN-MENTION-and-MENTION[occur movement]))\n",
      "(-0.88385814, FeatureKey (TDL_INV_LEMMA:SEQ-BETWEEN[myoclonus and]))\n",
      "(-0.8848592, FeatureKey (TDL_LEMMA:PARENTS-OF-BETWEEN-MENTION-and-MENTION[in compare]))\n",
      "(-0.88864499, FeatureKey (TDL_DEP_LABEL|LEMMA:BETWEEN-MENTION-and-MENTION[ROOT|increase dobj|risk]))\n",
      "(-0.89350343, FeatureKey (TDL_LEMMA:LEFT-OF-MENTION[lamivudine]))\n",
      "(-0.89396393, FeatureKey (TDL_LEMMA:PARENTS-OF-BETWEEN-MENTION-and-MENTION[None comparison glycopyrrolate]))\n",
      "(-0.897457, FeatureKey (TDL_LEMMA:PARENTS-OF-BETWEEN-MENTION-and-MENTION[glycopyrrolate]))\n",
      "(-0.90137696, FeatureKey (TDL_INV_DEP_LABEL:BETWEEN-MENTION-and-MENTION[nsubj punct prep]))\n",
      "(-0.90573752, FeatureKey (TDL_INV_LEMMA:PARENTS-OF-BETWEEN-MENTION-and-MENTION[effect complete]))\n",
      "(-0.9063037, FeatureKey (TDL_LEMMA:BETWEEN-MENTION-and-MENTION[complete rat]))\n",
      "(-0.90934598, FeatureKey (TDL_INV_LEMMA:SEQ-BETWEEN[and fentanyl]))\n",
      "(-0.91194224, FeatureKey (TDL_INV_LEMMA:SEQ-BETWEEN[male take]))\n",
      "(-0.91221726, FeatureKey (TDL_DEP_LABEL|LEMMA:BETWEEN-MENTION-and-MENTION[ROOT|arrhythmia]))\n",
      "(-0.9187665, FeatureKey (TDL_LEMMA:LEFT-OF-MENTION[effective]))\n",
      "(-0.92040622, FeatureKey (TDL_INV_LEMMA:SEQ-BETWEEN[fentanyl -]))\n",
      "(-0.92279685, FeatureKey (TDL_INV_DEP_LABEL|LEMMA:BETWEEN-MENTION-and-MENTION[prep|of dobj|protection]))\n",
      "(-0.92382711, FeatureKey (TDL_LEMMA:PARENTS-OF-BETWEEN-MENTION-and-MENTION[of sign]))\n",
      "(-0.92530137, FeatureKey (TDL_LEMMA:PARENTS-OF-BETWEEN-MENTION-and-MENTION[of role]))\n",
      "(-0.93388397, FeatureKey (TDL_LEMMA:BETWEEN-MENTION-and-MENTION[rat of]))\n",
      "(-0.9359706, FeatureKey (TDL_LEMMA:PARENTS-OF-BETWEEN-MENTION-and-MENTION[sensitivity]))\n",
      "(-0.93668437, FeatureKey (TDL_DEP_LABEL|LEMMA:BETWEEN-MENTION-and-MENTION[ROOT|arrhythmia amod|induce]))\n",
      "(-0.93684548, FeatureKey (TDL_INV_LEMMA:LEFT-OF-MENTION[anti]))\n",
      "(-0.94244456, FeatureKey (TDL_INV_LEMMA:LEFT-OF-MENTION[relapse]))\n",
      "(-0.94575125, FeatureKey (TDL_DEP_LABEL|LEMMA:BETWEEN-MENTION-and-MENTION[conj|complete nsubj|rat]))\n",
      "(-0.94712824, FeatureKey (TDL_LEMMA:SEQ-BETWEEN[prevent arrhythmia and]))\n",
      "(-0.9482463, FeatureKey (TDL_LEMMA:LEFT-OF-MENTION[stain]))\n",
      "(-0.94834334, FeatureKey (TDL_INV_LEMMA:LEFT-OF-MENTION[amb.]))\n",
      "(-0.95206076, FeatureKey (TDL_LEMMA:PARENTS-OF-BETWEEN-MENTION-and-MENTION[represent form of]))\n",
      "(-0.95210165, FeatureKey (TDL_LEMMA:PARENTS-OF-BETWEEN-MENTION-and-MENTION[inhibit development of]))\n",
      "(-0.95270234, FeatureKey (TDL_INV_DEP_LABEL|LEMMA:BETWEEN-MENTION-and-MENTION[prep|during conj|extract]))\n",
      "(-0.95413351, FeatureKey (TDL_INV_DEP_LABEL|LEMMA:BETWEEN-MENTION-and-MENTION[ROOT|occur nsubj|movement punct|;]))\n",
      "(-0.95526546, FeatureKey (TDL_LEMMA:PARENTS-OF-BETWEEN-MENTION-and-MENTION[None increase during]))\n",
      "(-0.96452963, FeatureKey (TDL_LEMMA:BETWEEN-MENTION-and-MENTION[for seizure]))\n",
      "(-0.97032863, FeatureKey (TDL_LEMMA:PARENTS-OF-BETWEEN-MENTION-and-MENTION[support diagnosis of]))\n",
      "(-0.97488439, FeatureKey (TDL_INV_DEP_LABEL|LEMMA:BETWEEN-MENTION-and-MENTION[ROOT|associate prep|with pobj|use]))\n",
      "(-0.9787389, FeatureKey (TDL_LEMMA:PARENTS-OF-BETWEEN-MENTION-and-MENTION[compare to]))\n",
      "(-0.98419267, FeatureKey (TDL_LEMMA:SEQ-BETWEEN[induce thrombocytopenia ,]))\n",
      "(-0.98564076, FeatureKey (TDL_LEMMA:LEFT-OF-MENTION[not]))\n",
      "(-0.98621929, FeatureKey (TDL_INV_DEP_LABEL|LEMMA:BETWEEN-MENTION-and-MENTION[acl|submit prep|to]))\n",
      "(-0.99710792, FeatureKey (TDL_INV_LEMMA:PARENTS-OF-BETWEEN-MENTION-and-MENTION[None study in]))\n",
      "(-1.0044321, FeatureKey (TDL_INV_DEP_LABEL|LEMMA:BETWEEN-MENTION-and-MENTION[nsubj|toxicity prep|of]))\n",
      "(-1.0071377, FeatureKey (TDL_DEP_LABEL|LEMMA:BETWEEN-MENTION-and-MENTION[pobj|thrombosis amod|induce]))\n",
      "(-1.0115664, FeatureKey (TDL_DEP_LABEL|LEMMA:BETWEEN-MENTION-and-MENTION[nsubj|rat]))\n",
      "(-1.0156354, FeatureKey (TDL_LEMMA:BETWEEN-MENTION-and-MENTION[nephrotoxicity amiodarone toxicity]))\n",
      "(-1.0217103, FeatureKey (TDL_LEMMA:SEQ-BETWEEN[prevent the]))\n",
      "(-1.0221437, FeatureKey (TDL_INV_DEP_LABEL:BETWEEN-MENTION-and-MENTION[nsubj punct]))\n",
      "(-1.027994, FeatureKey (TDL_LEMMA:BETWEEN-MENTION-and-MENTION[prevent]))\n",
      "(-1.038502, FeatureKey (TDL_INV_LEMMA:PARENTS-OF-BETWEEN-MENTION-and-MENTION[recognize]))\n",
      "(-1.0431201, FeatureKey (TDL_LEMMA:SEQ-BETWEEN[prevent]))\n",
      "(-1.0564734, FeatureKey (TDL_LEMMA:SEQ-BETWEEN[treatment]))\n",
      "(-1.068139, FeatureKey (TDL_DEP_LABEL|LEMMA:BETWEEN-MENTION-and-MENTION[ROOT|prevent]))\n",
      "(-1.0971655, FeatureKey (TDL_DEP_LABEL|LEMMA:BETWEEN-MENTION-and-MENTION[nsubj|rat prep|of]))\n",
      "(-1.0980151, FeatureKey (TDL_LEMMA:LEFT-OF-MENTION[licking induce]))\n",
      "(-1.109978, FeatureKey (TDL_LEMMA:PARENTS-OF-BETWEEN-MENTION-and-MENTION[in compare to]))\n",
      "(-1.1129615, FeatureKey (TDL_INV_LEMMA:PARENTS-OF-BETWEEN-MENTION-and-MENTION[study in]))\n",
      "(-1.1283989, FeatureKey (TDL_LEMMA:SEQ-BETWEEN[thrombocytopenia ,]))\n",
      "(-1.1317304, FeatureKey (TDL_INV_LEMMA:PARENTS-OF-BETWEEN-MENTION-and-MENTION[None recognize]))\n",
      "(-1.1510816, FeatureKey (TDL_INV_LEMMA:RIGHT-OF-MENTION[90]))\n",
      "(-1.1790181, FeatureKey (TDL_DEP_LABEL|LEMMA:BETWEEN-MENTION-and-MENTION[appos|nephrotoxicity appos|amiodarone appos|toxicity]))\n",
      "(-1.1869558, FeatureKey (TDL_LEMMA:PARENTS-OF-BETWEEN-MENTION-and-MENTION[be patient]))\n",
      "(-1.1901931, FeatureKey (TDL_DEP_LABEL|LEMMA:BETWEEN-MENTION-and-MENTION[conj|complete nsubj|rat prep|of]))\n",
      "(-1.2057569, FeatureKey (TDL_LEMMA:PARENTS-OF-BETWEEN-MENTION-and-MENTION[syndrome induce by]))\n",
      "(-1.3307775, FeatureKey (TDL_DEP_LABEL|LEMMA:BETWEEN-MENTION-and-MENTION[dobj|ht]))\n",
      "(-1.3630797, FeatureKey (TDL_LEMMA:SEQ-BETWEEN[therapy]))\n",
      "(-1.5600681, FeatureKey (TDL_LEMMA:RIGHT-OF-MENTION[midazolam]))\n",
      "(-1.6681716, FeatureKey (TDL_LEMMA:LEFT-OF-MENTION[rg1 the]))\n"
     ]
    }
   ],
   "source": [
    "for (w, idx) in top_w[-100:]:\n",
    "    f = X_train.get_key(pipe.session, idx)\n",
    "    print(w, f)"
   ]
  },
  {
   "cell_type": "code",
   "execution_count": 17,
   "metadata": {
    "collapsed": false
   },
   "outputs": [],
   "source": [
    "#       F1 Score  Precision    Recall\n",
    "# Disc  0.461176   0.368421  0.616352\n",
    "# Gen   0.454918   0.337386  0.698113"
   ]
  }
 ],
 "metadata": {
  "kernelspec": {
   "display_name": "Python 2",
   "language": "python",
   "name": "python2"
  },
  "language_info": {
   "codemirror_mode": {
    "name": "ipython",
    "version": 2
   },
   "file_extension": ".py",
   "mimetype": "text/x-python",
   "name": "python",
   "nbconvert_exporter": "python",
   "pygments_lexer": "ipython2",
   "version": "2.7.14"
  }
 },
 "nbformat": 4,
 "nbformat_minor": 2
}
