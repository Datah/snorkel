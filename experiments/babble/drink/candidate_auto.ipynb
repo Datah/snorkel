{
 "cells": [
  {
   "cell_type": "code",
   "execution_count": 1,
   "metadata": {
    "collapsed": false,
    "deletable": true,
    "editable": true
   },
   "outputs": [],
   "source": [
    "%load_ext autoreload\n",
    "%autoreload 2\n",
    "%matplotlib inline\n",
    "import os\n",
    "\n",
    "# TO USE A DATABASE OTHER THAN SQLITE, USE THIS LINE\n",
    "# Note that this is necessary for parallel execution amongst other things...\n",
    "# os.environ['SNORKELDB'] = 'postgres:////babble_model_drink'\n",
    "\n",
    "from snorkel import SnorkelSession\n",
    "session = SnorkelSession()"
   ]
  },
  {
   "cell_type": "code",
   "execution_count": 2,
   "metadata": {
    "collapsed": false,
    "deletable": true,
    "editable": true,
    "scrolled": true
   },
   "outputs": [],
   "source": [
    "import numpy as np\n",
    "\n",
    "# anns_folder = '/dfs/scratch0/paroma/coco/annotations/'\n",
    "anns_folder = os.environ['SNORKELHOME'] + '/experiments/babble/drink/data/'\n",
    "train_path = anns_folder + 'drink_train_anns.npy'\n",
    "val_path = anns_folder + 'drink_val_anns.npy'\n",
    "\n",
    "train_anns = np.load(train_path).tolist()\n",
    "val_anns = np.load(val_path).tolist()"
   ]
  },
  {
   "cell_type": "code",
   "execution_count": 3,
   "metadata": {
    "collapsed": false,
    "deletable": true,
    "editable": true
   },
   "outputs": [],
   "source": [
    "from snorkel.models import candidate_subclass\n",
    "\n",
    "Drinker = candidate_subclass('Drinker', ['person', 'cup'])"
   ]
  },
  {
   "cell_type": "code",
   "execution_count": 4,
   "metadata": {
    "collapsed": false,
    "deletable": true,
    "editable": true,
    "scrolled": true
   },
   "outputs": [
    {
     "name": "stdout",
     "output_type": "stream",
     "text": [
      "Clearing existing...\n",
      "Running UDF...\n",
      "CPU times: user 3.92 s, sys: 104 ms, total: 4.02 s\n",
      "Wall time: 4.03 s\n",
      "Running UDF...\n",
      "CPU times: user 1 s, sys: 72 ms, total: 1.08 s\n",
      "Wall time: 1.09 s\n",
      "Split 0 candidates: 2524\n",
      "Split 1 candidates: 495\n"
     ]
    }
   ],
   "source": [
    "from snorkel.parser import ImageCorpusExtractor, CocoPreprocessor\n",
    "\n",
    "corpus_extractor = ImageCorpusExtractor(candidate_class=Drinker)\n",
    "\n",
    "coco_preprocessor = CocoPreprocessor(train_path, source=0)\n",
    "%time corpus_extractor.apply(coco_preprocessor, person_id=[1], object_id=[44,46,47])\n",
    "\n",
    "coco_preprocessor = CocoPreprocessor(val_path, source=1)\n",
    "%time corpus_extractor.apply(coco_preprocessor, person_id=[1], object_id=[44,46,47], clear=False)\n",
    "\n",
    "for split in [0, 1]:\n",
    "    num_candidates = session.query(Drinker).filter(Drinker.split == split).count()\n",
    "    print(\"Split {} candidates: {}\".format(split, num_candidates))"
   ]
  },
  {
   "cell_type": "code",
   "execution_count": 5,
   "metadata": {
    "collapsed": true,
    "deletable": true,
    "editable": true
   },
   "outputs": [],
   "source": [
    "from snorkel.models import StableLabel\n",
    "from snorkel.db_helpers import reload_annotator_labels\n",
    "\n",
    "def assign_gold_labels(session, labels_by_candidate):\n",
    "    candidate_class = Drinker\n",
    "    annotator_name = 'gold'\n",
    "    \n",
    "    for candidate_hash, label in labels_by_candidate.items():\n",
    "        set_name, image_idx, bbox1_idx, bbox2_idx = candidate_hash.split(':')\n",
    "        source = {'train': 0, 'val': 1}[set_name]\n",
    "        stable_id_1 = \"{}:{}::bbox:{}\".format(source, image_idx, bbox1_idx)\n",
    "        stable_id_2 = \"{}:{}::bbox:{}\".format(source, image_idx, bbox2_idx)\n",
    "        context_stable_ids = \"~~\".join([stable_id_1, stable_id_2])\n",
    "        query = session.query(StableLabel).filter(StableLabel.context_stable_ids == context_stable_ids)\n",
    "        query = query.filter(StableLabel.annotator_name == annotator_name)\n",
    "        label = 1 if label else -1\n",
    "        if query.count() == 0:\n",
    "            session.add(StableLabel(\n",
    "                context_stable_ids=context_stable_ids,\n",
    "                annotator_name=annotator_name,\n",
    "                value=label))\n",
    "\n",
    "    session.commit()\n",
    "    reload_annotator_labels(session, candidate_class, annotator_name, split=source, filter_label_split=False)"
   ]
  },
  {
   "cell_type": "code",
   "execution_count": 6,
   "metadata": {
    "collapsed": false,
    "deletable": true,
    "editable": true
   },
   "outputs": [
    {
     "name": "stdout",
     "output_type": "stream",
     "text": [
      "AnnotatorLabels created: 464\n"
     ]
    }
   ],
   "source": [
    "anns_folder = '/dfs/scratch0/paroma/coco/annotations/'\n",
    "validation_labels_by_candidate = np.load(anns_folder + 'drink_val_labels_by_candidate.npy').tolist()\n",
    "assign_gold_labels(session, validation_labels_by_candidate)"
   ]
  },
  {
   "cell_type": "code",
   "execution_count": 7,
   "metadata": {
    "collapsed": false,
    "deletable": true,
    "editable": true
   },
   "outputs": [
    {
     "name": "stdout",
     "output_type": "stream",
     "text": [
      "AnnotatorLabels created: 2440\n"
     ]
    }
   ],
   "source": [
    "anns_folder = '/dfs/scratch0/paroma/coco/annotations/'\n",
    "train_labels_by_candidate = np.load(anns_folder + 'drink_train_labels_by_candidate.npy').tolist()\n",
    "assign_gold_labels(session, train_labels_by_candidate)"
   ]
  },
  {
   "cell_type": "code",
   "execution_count": 8,
   "metadata": {
    "collapsed": false
   },
   "outputs": [
    {
     "data": {
      "text/plain": [
       "(array([  66,   69,  355,  389,  413,  655,  800,  824,  882,  887,  965,\n",
       "         966,  967, 1033, 1040, 1059, 1174, 1182, 1336, 1420, 1444, 1453,\n",
       "        1497, 1609, 1649, 1723, 1731, 1827, 1853, 1864, 1870, 1886, 1921,\n",
       "        1980, 2153, 2271, 2325, 2352, 2356, 2411]),)"
      ]
     },
     "execution_count": 8,
     "metadata": {},
     "output_type": "execute_result"
    }
   ],
   "source": [
    "np.where(np.array(train_labels_by_candidate.values()) == True)"
   ]
  },
  {
   "cell_type": "code",
   "execution_count": 9,
   "metadata": {
    "collapsed": false,
    "deletable": true,
    "editable": true
   },
   "outputs": [
    {
     "data": {
      "text/plain": [
       "<495x1 sparse matrix of type '<type 'numpy.int64'>'\n",
       "\twith 464 stored elements in Compressed Sparse Row format>"
      ]
     },
     "execution_count": 9,
     "metadata": {},
     "output_type": "execute_result"
    }
   ],
   "source": [
    "from snorkel.annotations import load_gold_labels\n",
    "\n",
    "L_gold_dev = load_gold_labels(session, annotator_name='gold', split=1)\n",
    "L_gold_dev"
   ]
  },
  {
   "cell_type": "code",
   "execution_count": 10,
   "metadata": {
    "collapsed": false,
    "deletable": true,
    "editable": true
   },
   "outputs": [
    {
     "data": {
      "text/plain": [
       "<2524x1 sparse matrix of type '<type 'numpy.int64'>'\n",
       "\twith 2440 stored elements in Compressed Sparse Row format>"
      ]
     },
     "execution_count": 10,
     "metadata": {},
     "output_type": "execute_result"
    }
   ],
   "source": [
    "from snorkel.annotations import load_gold_labels\n",
    "\n",
    "L_gold_train = load_gold_labels(session, annotator_name='gold', split=0)\n",
    "L_gold_train"
   ]
  },
  {
   "cell_type": "code",
   "execution_count": 11,
   "metadata": {
    "collapsed": false,
    "deletable": true,
    "editable": true
   },
   "outputs": [],
   "source": [
    "a = np.array(L_gold_train.todense()).ravel()"
   ]
  },
  {
   "cell_type": "code",
   "execution_count": 12,
   "metadata": {
    "collapsed": false
   },
   "outputs": [
    {
     "data": {
      "text/plain": [
       "(array([  24,   28,  196,  334,  438,  476,  503,  544,  631,  642,  645,\n",
       "         698,  712,  783,  850, 1095, 1134, 1211, 1238, 1260, 1338, 1464,\n",
       "        1504, 1608, 1634, 1782, 1829, 1838, 1841, 1863, 1884, 1920, 1969,\n",
       "        2102, 2161, 2169, 2319, 2422, 2423, 2476]),)"
      ]
     },
     "execution_count": 12,
     "metadata": {},
     "output_type": "execute_result"
    }
   ],
   "source": [
    "np.where(a == 1)"
   ]
  },
  {
   "cell_type": "code",
   "execution_count": null,
   "metadata": {
    "collapsed": true
   },
   "outputs": [],
   "source": []
  }
 ],
 "metadata": {
  "kernelspec": {
   "display_name": "Python 2",
   "language": "python",
   "name": "python2"
  },
  "language_info": {
   "codemirror_mode": {
    "name": "ipython",
    "version": 2
   },
   "file_extension": ".py",
   "mimetype": "text/x-python",
   "name": "python",
   "nbconvert_exporter": "python",
   "pygments_lexer": "ipython2",
   "version": "2.7.6"
  }
 },
 "nbformat": 4,
 "nbformat_minor": 2
}
