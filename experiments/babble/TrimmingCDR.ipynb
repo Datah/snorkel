{
 "cells": [
  {
   "cell_type": "code",
   "execution_count": 1,
   "metadata": {
    "collapsed": false
   },
   "outputs": [],
   "source": [
    "%load_ext autoreload\n",
    "%autoreload 2"
   ]
  },
  {
   "cell_type": "code",
   "execution_count": 2,
   "metadata": {
    "collapsed": false
   },
   "outputs": [],
   "source": [
    "config = {\n",
    "    'domain': 'cdr',\n",
    "    'splits': [0, 1, 2], # UNUSUAL\n",
    "    'disc_model_class': 'logreg',\n",
    "    'supervision': 'majority',\n",
    "}"
   ]
  },
  {
   "cell_type": "code",
   "execution_count": 3,
   "metadata": {
    "collapsed": false,
    "scrolled": true
   },
   "outputs": [
    {
     "name": "stdout",
     "output_type": "stream",
     "text": [
      "$SNORKELDB = sqlite:///babble_cdr.db\n"
     ]
    }
   ],
   "source": [
    "# Get DB connection string and add to globals\n",
    "# NOTE: $SNORKELDB must be set before any snorkel imports\n",
    "import os\n",
    "\n",
    "default_db_name = 'babble_' + config['domain'] + ('_debug' if config.get('debug', False) else '')\n",
    "DB_NAME = config.get('db_name', default_db_name)\n",
    "if 'postgres' in config and config['postgres']:\n",
    "    DB_TYPE = 'postgres'\n",
    "else:\n",
    "    DB_TYPE = 'sqlite'\n",
    "    DB_NAME += '.db'\n",
    "DB_ADDR = \"localhost:{0}\".format(config['db_port']) if 'db_port' in config else \"\"\n",
    "os.environ['SNORKELDB'] = '{0}://{1}/{2}'.format(DB_TYPE, DB_ADDR, DB_NAME)\n",
    "print(\"$SNORKELDB = {0}\".format(os.environ['SNORKELDB']))"
   ]
  },
  {
   "cell_type": "code",
   "execution_count": 4,
   "metadata": {
    "collapsed": false,
    "scrolled": true
   },
   "outputs": [
    {
     "name": "stdout",
     "output_type": "stream",
     "text": [
      "Overwriting epochs=[25, 50, 75] to epochs=[10, 25, 50, 100]\n",
      "Overwriting reg_param=[0.0, 0.01, 0.1, 0.25, 0.5] to reg_param=[0.0, 0.01, 0.1, 0.25, 0.5, 0.75]\n",
      "Overwriting domain=None to domain=cdr\n",
      "Overwriting print_freq=1 to print_freq=5\n",
      "Overwriting init_class_prior=0 to init_class_prior=-0.695\n",
      "Overwriting LF_acc_prior_weight_default=1.0 to LF_acc_prior_weight_default=0.5\n",
      "Overwriting disc_model_class=lstm to disc_model_class=logreg\n",
      "Overwriting supervision=generative to supervision=majority\n"
     ]
    }
   ],
   "source": [
    "from snorkel import SnorkelSession\n",
    "session = SnorkelSession()\n",
    "\n",
    "# Resolve config conflicts (nb_config > local_config > global_config)\n",
    "from snorkel.contrib.babble.pipelines import merge_configs, get_local_pipeline\n",
    "config = merge_configs(config)\n",
    "\n",
    "if config['debug']:\n",
    "    print(\"NOTE: --debug=True: modifying parameters...\")\n",
    "    config['max_docs'] = 100\n",
    "    config['gen_model_search_space'] = 2\n",
    "    config['disc_model_search_space'] = 2\n",
    "    config['gen_params_default']['epochs'] = 25\n",
    "    config['disc_params_default']['n_epochs'] = 5\n",
    "\n",
    "from snorkel.models import candidate_subclass\n",
    "candidate_class = candidate_subclass(config['candidate_name'], config['candidate_entities'])\n",
    "\n",
    "pipeline = get_local_pipeline(config['domain'])\n",
    "pipe = pipeline(session, candidate_class, config)"
   ]
  },
  {
   "cell_type": "code",
   "execution_count": 5,
   "metadata": {
    "collapsed": false,
    "scrolled": true
   },
   "outputs": [],
   "source": [
    "# %time pipe.parse()"
   ]
  },
  {
   "cell_type": "code",
   "execution_count": 6,
   "metadata": {
    "collapsed": false,
    "scrolled": true
   },
   "outputs": [],
   "source": [
    "# %time pipe.extract()"
   ]
  },
  {
   "cell_type": "code",
   "execution_count": 7,
   "metadata": {
    "collapsed": false,
    "scrolled": false
   },
   "outputs": [],
   "source": [
    "# %time pipe.load_gold()"
   ]
  },
  {
   "cell_type": "code",
   "execution_count": 8,
   "metadata": {
    "collapsed": false,
    "scrolled": false
   },
   "outputs": [
    {
     "name": "stdout",
     "output_type": "stream",
     "text": [
      "Clearing existing...\n",
      "Running UDF...\n",
      "[========================================] 100%\n",
      "\n",
      "Featurized split 0: (6667,132522) sparse (nnz = 492757)\n",
      "Clearing existing...\n",
      "Running UDF...\n",
      "[========================================] 100%\n",
      "\n",
      "Featurized split 1: (773,132522) sparse (nnz = 33224)\n",
      "Clearing existing...\n",
      "Running UDF...\n",
      "[========================================] 100%\n",
      "\n",
      "Featurized split 2: (4101,132522) sparse (nnz = 170346)\n",
      "CPU times: user 13min 15s, sys: 5.18 s, total: 13min 20s\n",
      "Wall time: 13min 22s\n"
     ]
    }
   ],
   "source": [
    "%time pipe.featurize()"
   ]
  },
  {
   "cell_type": "code",
   "execution_count": 9,
   "metadata": {
    "collapsed": false,
    "scrolled": false
   },
   "outputs": [
    {
     "name": "stdout",
     "output_type": "stream",
     "text": [
      "Loading canonical ID ontologies...\n",
      "Finished loading canonical ID ontologies.\n",
      "Linking candidates...\n",
      "Building list of target candidate ids...\n",
      "Collected 28 unique target candidate ids from 30 explanations.\n",
      "Gathering desired candidates...\n",
      "Could not find 6 target candidates with the following stable_ids (first 5):\n",
      "19721134::span:1078:1084~~19721134::span:1017:1026\n",
      "14698717::span:322:330~~14698717::span:302:310\n",
      "17574447::span:110:122~~17574447::span:311:323\n",
      "10728962::span:32:40~~10728962::span:50:60\n",
      "11999899::span:962:970~~11999899::span:1112:1121\n",
      "Found 22/28 desired candidates\n",
      "Linking explanations to candidates...\n",
      "Linked 22/30 explanations\n",
      "Calling babbler...\n",
      "Flushing all parses from previous explanation set.\n",
      "Created grammar with 593 rules\n",
      "30 explanation(s) out of 30 were parseable.\n",
      "106 parse(s) generated from 30 explanation(s).\n",
      "82 parse(s) remain (24 parse(s) removed by DuplicateSemanticsFilter).\n",
      "Note: 23 LFs did not have candidates and therefore could not be filtered.\n",
      "57 parse(s) remain (25 parse(s) removed by ConsistencyFilter).\n",
      "### Applying labeling functions to split 1\n",
      "[========================================] 100%\n",
      "\n",
      "### Done in 4.9s.\n",
      "\n",
      "44 parse(s) remain (13 parse(s) removed by UniformSignatureFilter: (13 None, 0 All)).\n",
      "31 parse(s) remain (13 parse(s) removed by DuplicateSignatureFilter).\n",
      "Added 31 parse(s) from 27 explanations to set. (Total # parses = 31)\n",
      "CPU times: user 37.3 s, sys: 966 ms, total: 38.2 s\n",
      "Wall time: 38.1 s\n"
     ]
    }
   ],
   "source": [
    "%time pipe.collect()"
   ]
  },
  {
   "cell_type": "code",
   "execution_count": null,
   "metadata": {
    "collapsed": false,
    "scrolled": true
   },
   "outputs": [],
   "source": [
    "from snorkel.contrib.babble import Explanation\n",
    "from snorkel.contrib.babble.utils import link_explanation_candidates\n",
    "\n",
    "explanations = [\n",
    "    Explanation(\n",
    "        label=True,\n",
    "        condition=\"\"\"'spotted' is within 3 words to the right of X or Y\"\"\",\n",
    "        candidate=\"1ca2f108-633f-440a-bd6e-d59f7e01316b::span:338:351~~1ca2f108-633f-440a-bd6e-d59f7e01316b::span:426:437\"\n",
    "    ),\n",
    "    Explanation(\n",
    "        label=True,\n",
    "        condition=\"The moon is full\",\n",
    "        candidate=None\n",
    "    ),\n",
    "#     Explanation(\n",
    "#         label=False,\n",
    "#         condition=\"\"\"At least one word right of X or Y is uppercase or lowercase\"\"\",\n",
    "#         candidate=\"1ca2f108-633f-440a-bd6e-d59f7e01316b::span:338:351~~1ca2f108-633f-440a-bd6e-d59f7e01316b::span:426:437\"\n",
    "#     ),\n",
    "#     Explanation(\n",
    "#         label=False,\n",
    "#         condition=\"\"\"The word 'spotted' is two words right of X or Y\"\"\",\n",
    "#         candidate=\"1ca2f108-633f-440a-bd6e-d59f7e01316b::span:338:351~~1ca2f108-633f-440a-bd6e-d59f7e01316b::span:474:478\"\n",
    "#     ),    \n",
    "]\n",
    "explanations = link_explanation_candidates(explanations, candidates)"
   ]
  },
  {
   "cell_type": "code",
   "execution_count": null,
   "metadata": {
    "collapsed": false,
    "scrolled": false
   },
   "outputs": [],
   "source": [
    "from collections import namedtuple\n",
    "from snorkel.contrib.babble import Babbler\n",
    "babbler = Babbler(session,\n",
    "                  mode='text',\n",
    "                  candidate_class=candidate_class,\n",
    "                  user_lists={})\n",
    "babbler.apply(explanations, split=1)\n",
    "parses = babbler.get_parses(translate=False)"
   ]
  },
  {
   "cell_type": "code",
   "execution_count": null,
   "metadata": {
    "collapsed": false,
    "scrolled": false
   },
   "outputs": [],
   "source": [
    "babbler.filtered_analysis()"
   ]
  },
  {
   "cell_type": "code",
   "execution_count": null,
   "metadata": {
    "collapsed": false,
    "scrolled": false
   },
   "outputs": [],
   "source": [
    "# babbler.semparser.grammar.print_chart()"
   ]
  },
  {
   "cell_type": "code",
   "execution_count": null,
   "metadata": {
    "collapsed": false,
    "scrolled": false
   },
   "outputs": [],
   "source": [
    "# parses = sorted(parses, key=lambda x: x.explanation.name)\n",
    "# new_parses = []\n",
    "# seen = set()\n",
    "# for parse in parses:\n",
    "#     if parse.explanation.name not in seen:\n",
    "#         seen.add(parse.explanation.name)\n",
    "#         new_parses.append(parse)\n",
    "#         print(parse.explanation.name)\n",
    "#         print(babbler.semparser.grammar.translate(parse.semantics))\n",
    "#         print(\"\")\n",
    "# print(len(new_parses))\n",
    "# new_parses"
   ]
  },
  {
   "cell_type": "code",
   "execution_count": 10,
   "metadata": {
    "collapsed": false,
    "scrolled": false
   },
   "outputs": [
    {
     "name": "stdout",
     "output_type": "stream",
     "text": [
      "Clearing existing...\n",
      "Running UDF...\n",
      "[========================================] 100%\n",
      "\n",
      "Labeled split 0: (6667,31) sparse (nnz = 39146)\n",
      "\n",
      "Clearing existing...\n",
      "Running UDF...\n",
      "[========================================] 100%\n",
      "\n",
      "Labeled split 1: (773,31) sparse (nnz = 4589)\n",
      "\n",
      "                              j  Coverage  Overlaps  Conflicts   TP   FP   FN  \\\n",
      "LF_c_d_0                      0  0.020699  0.020699   0.020699    9    7    0   \n",
      "LF_c_induced_d_0              1  0.002587  0.002587   0.002587    1    1    0   \n",
      "LF_c_treat_d_0                2  0.050453  0.050453   0.036223    0    0    9   \n",
      "LF_c_treat_d_wide_2           3  0.102199  0.102199   0.086675    0    0   13   \n",
      "LF_ctd_marker_c_d_5           4  0.018111  0.018111   0.018111    9    5    0   \n",
      "LF_ctd_therapy_treat_7        5  0.059508  0.059508   0.053040    0    0    7   \n",
      "LF_ctd_unspecified_treat_7    6  0.078913  0.078913   0.068564    0    0   13   \n",
      "LF_d_induced_by_c_1           7  0.050453  0.050453   0.050453   13   26    0   \n",
      "LF_d_induced_by_c_tight_0     8  0.442432  0.442432   0.442432   78  264    0   \n",
      "LF_d_induced_by_c_tight_2     9  0.448900  0.448900   0.448900   78  269    0   \n",
      "LF_d_treat_c_0               10  0.002587  0.002587   0.002587    0    0    2   \n",
      "LF_far_c_d_0                 11  0.195343  0.195343   0.175938    0    0   16   \n",
      "LF_far_c_d_1                 12  0.432083  0.432083   0.366106    0    0   58   \n",
      "LF_far_d_c_0                 13  0.125485  0.125485   0.113842    0    0   23   \n",
      "LF_far_d_c_1                 14  0.388098  0.388098   0.311772    0    0   65   \n",
      "LF_improve_before_disease_1  15  0.016818  0.016818   0.011643    0    0    2   \n",
      "LF_in_ctd_unspecified_1      16  0.635188  0.635188   0.523933    0    0  123   \n",
      "LF_in_ctd_therapy_1          17  0.310479  0.310479   0.240621    0    0   43   \n",
      "LF_in_ctd_marker_1           18  0.532988  0.532988   0.531695  158  254    0   \n",
      "LF_in_patient_with_0         19  0.011643  0.011643   0.005175    0    0    0   \n",
      "LF_in_patient_with_2         20  0.975420  0.934023   0.751617    0    0  154   \n",
      "LF_induce_0                  21  0.256145  0.256145   0.256145   58  140    0   \n",
      "LF_induce_name_0             22  0.003881  0.003881   0.003881    1    2    0   \n",
      "LF_measure_0                 23  0.001294  0.001294   0.001294    0    0    0   \n",
      "LF_risk_d_1                  24  0.005175  0.005175   0.005175    2    2    0   \n",
      "LF_weak_assertions_0         25  0.106080  0.106080   0.073739    0    0   16   \n",
      "LF_c_cause_d_0               26  0.260026  0.258732   0.257439   72  129    0   \n",
      "LF_develop_d_following_c_1   27  0.089263  0.089263   0.089263   13   56    0   \n",
      "LF_induced_other_0           28  0.214748  0.214748   0.214748    0    0   54   \n",
      "LF_level_1                   29  0.036223  0.036223   0.025873    0    0    6   \n",
      "LF_neg_d_0                   30  0.063389  0.063389   0.050453    0    0    5   \n",
      "\n",
      "                              TN  Empirical Acc.  \n",
      "LF_c_d_0                       0        0.562500  \n",
      "LF_c_induced_d_0               0        0.500000  \n",
      "LF_c_treat_d_0                30        0.769231  \n",
      "LF_c_treat_d_wide_2           66        0.835443  \n",
      "LF_ctd_marker_c_d_5            0        0.642857  \n",
      "LF_ctd_therapy_treat_7        39        0.847826  \n",
      "LF_ctd_unspecified_treat_7    48        0.786885  \n",
      "LF_d_induced_by_c_1            0        0.333333  \n",
      "LF_d_induced_by_c_tight_0      0        0.228070  \n",
      "LF_d_induced_by_c_tight_2      0        0.224784  \n",
      "LF_d_treat_c_0                 0        0.000000  \n",
      "LF_far_c_d_0                 135        0.894040  \n",
      "LF_far_c_d_1                 276        0.826347  \n",
      "LF_far_d_c_0                  74        0.762887  \n",
      "LF_far_d_c_1                 235        0.783333  \n",
      "LF_improve_before_disease_1   11        0.846154  \n",
      "LF_in_ctd_unspecified_1      368        0.749491  \n",
      "LF_in_ctd_therapy_1          197        0.820833  \n",
      "LF_in_ctd_marker_1             0        0.383495  \n",
      "LF_in_patient_with_0           9        1.000000  \n",
      "LF_in_patient_with_2         600        0.795756  \n",
      "LF_induce_0                    0        0.292929  \n",
      "LF_induce_name_0               0        0.333333  \n",
      "LF_measure_0                   1        1.000000  \n",
      "LF_risk_d_1                    0        0.500000  \n",
      "LF_weak_assertions_0          66        0.804878  \n",
      "LF_c_cause_d_0                 0        0.358209  \n",
      "LF_develop_d_following_c_1     0        0.188406  \n",
      "LF_induced_other_0           112        0.674699  \n",
      "LF_level_1                    22        0.785714  \n",
      "LF_neg_d_0                    44        0.897959  \n",
      "Clearing existing...\n",
      "Running UDF...\n",
      "[========================================] 100%\n",
      "\n",
      "Labeled split 2: (4101,31) sparse (nnz = 23548)\n",
      "\n",
      "CPU times: user 1min 47s, sys: 655 ms, total: 1min 48s\n",
      "Wall time: 1min 48s\n"
     ]
    }
   ],
   "source": [
    "%time pipe.label()"
   ]
  },
  {
   "cell_type": "code",
   "execution_count": null,
   "metadata": {
    "collapsed": false,
    "scrolled": false
   },
   "outputs": [],
   "source": [
    "# %time pipe.supervise()"
   ]
  },
  {
   "cell_type": "code",
   "execution_count": null,
   "metadata": {
    "collapsed": false,
    "scrolled": false
   },
   "outputs": [],
   "source": [
    "# %time pipe.classify()"
   ]
  },
  {
   "cell_type": "code",
   "execution_count": null,
   "metadata": {
    "collapsed": true
   },
   "outputs": [],
   "source": []
  }
 ],
 "metadata": {
  "kernelspec": {
   "display_name": "Python 2",
   "language": "python",
   "name": "python2"
  },
  "language_info": {
   "codemirror_mode": {
    "name": "ipython",
    "version": 2
   },
   "file_extension": ".py",
   "mimetype": "text/x-python",
   "name": "python",
   "nbconvert_exporter": "python",
   "pygments_lexer": "ipython2",
   "version": "2.7.13"
  }
 },
 "nbformat": 4,
 "nbformat_minor": 2
}
