{
 "cells": [
  {
   "cell_type": "code",
   "execution_count": 1,
   "metadata": {
    "collapsed": true
   },
   "outputs": [],
   "source": [
    "%load_ext autoreload\n",
    "%autoreload 2"
   ]
  },
  {
   "cell_type": "code",
   "execution_count": 2,
   "metadata": {
    "collapsed": true
   },
   "outputs": [],
   "source": [
    "config = {\n",
    "    'domain': 'protein', # NOTE: hardcode below still\n",
    "#     'db_name': 'babble_spouse_demo',\n",
    "#     'babbler_candidate_split': 1,\n",
    "#     'babbler_label_split': 1,\n",
    "}"
   ]
  },
  {
   "cell_type": "code",
   "execution_count": 3,
   "metadata": {
    "collapsed": false
   },
   "outputs": [
    {
     "name": "stdout",
     "output_type": "stream",
     "text": [
      "$SNORKELDB = sqlite:///babble_protein.db\n"
     ]
    }
   ],
   "source": [
    "# Get DB connection string and add to globals\n",
    "# NOTE: $SNORKELDB must be set before any snorkel imports\n",
    "import os\n",
    "\n",
    "default_db_name = 'babble_' + config['domain'] + ('_debug' if config.get('debug', False) else '')\n",
    "DB_NAME = config.get('db_name', default_db_name)\n",
    "if 'postgres' in config and config['postgres']:\n",
    "    DB_TYPE = 'postgres'\n",
    "else:\n",
    "    DB_TYPE = 'sqlite'\n",
    "    DB_NAME += '.db'\n",
    "DB_ADDR = \"localhost:{0}\".format(config['db_port']) if 'db_port' in config else \"\"\n",
    "os.environ['SNORKELDB'] = '{0}://{1}/{2}'.format(DB_TYPE, DB_ADDR, DB_NAME)\n",
    "print(\"$SNORKELDB = {0}\".format(os.environ['SNORKELDB']))"
   ]
  },
  {
   "cell_type": "code",
   "execution_count": 4,
   "metadata": {
    "collapsed": false
   },
   "outputs": [
    {
     "name": "stdout",
     "output_type": "stream",
     "text": [
      "Overwriting domain=None to domain=protein\n",
      "Overwriting babbler_candidate_split=1 to babbler_candidate_split=[0, 1, 2]\n",
      "Overwriting traditional_split=0 to traditional_split=1\n"
     ]
    }
   ],
   "source": [
    "from snorkel import SnorkelSession\n",
    "session = SnorkelSession()\n",
    "\n",
    "# Resolve config conflicts (nb_config > local_config > global_config)\n",
    "from snorkel.contrib.pipelines import merge_configs, get_local_pipeline\n",
    "config = merge_configs(config)\n",
    "\n",
    "from snorkel.models import candidate_subclass\n",
    "candidate_class = candidate_subclass(config['candidate_name'], config['candidate_entities'])"
   ]
  },
  {
   "cell_type": "code",
   "execution_count": 5,
   "metadata": {
    "collapsed": false,
    "scrolled": true
   },
   "outputs": [],
   "source": [
    "from experiments.babble.protein.protein_examples import get_user_lists"
   ]
  },
  {
   "cell_type": "code",
   "execution_count": 6,
   "metadata": {
    "collapsed": false
   },
   "outputs": [
    {
     "data": {
      "text/plain": [
       "['influence',\n",
       " 'negexp',\n",
       " 'nucleic_acids',\n",
       " 'residue',\n",
       " 'int_ind',\n",
       " 'positive',\n",
       " 'interact',\n",
       " 'signexp',\n",
       " 'negative',\n",
       " 'between',\n",
       " 'interaction_indicators',\n",
       " 'prep',\n",
       " 'coimmunopr',\n",
       " 'mutations',\n",
       " 'uncertain',\n",
       " 'prep2',\n",
       " 'substrate',\n",
       " 'bindmid',\n",
       " 'phosphory',\n",
       " 'work',\n",
       " 'neg_ind',\n",
       " 'known_targets']"
      ]
     },
     "execution_count": 6,
     "metadata": {},
     "output_type": "execute_result"
    }
   ],
   "source": [
    "user_lists = get_user_lists()\n",
    "user_lists.keys()"
   ]
  },
  {
   "cell_type": "code",
   "execution_count": 7,
   "metadata": {
    "collapsed": false
   },
   "outputs": [
    {
     "name": "stdout",
     "output_type": "stream",
     "text": [
      "Created grammar with 599 rules\n"
     ]
    }
   ],
   "source": [
    "from snorkel.contrib.babble import SemanticParser\n",
    "semparser = SemanticParser(\n",
    "    mode='text', candidate_class=candidate_class, user_lists=user_lists, beam_width=10)"
   ]
  },
  {
   "cell_type": "code",
   "execution_count": 8,
   "metadata": {
    "collapsed": false
   },
   "outputs": [],
   "source": [
    "from snorkel.contrib.babble import Explanation\n",
    "\n",
    "explanations = [\n",
    "    Explanation(\n",
    "        name=\"LF_by_with\",\n",
    "        label=True,  \n",
    "        condition=\"a prep word is between them and no negative words are between them and the number of words between them is smaller than 10\",\n",
    "        candidate=\"10946297::span:893:900~~10946297::span:920:923\",\n",
    "        semantics=('.root', ('.label', ('.bool', True), ('.and', ('.any', ('.map', ('.in', ('.extract_text', ('.between', ('.list', ('.arg', ('.int', 1)), ('.arg', ('.int', 2)))))), ('.user_list', ('.string', u'prep')))), ('.and', ('.none', ('.map', ('.in', ('.extract_text', ('.between', ('.list', ('.arg', ('.int', 1)), ('.arg', ('.int', 2)))))), ('.user_list', ('.string', u'negative'))), ('.call', ('.lt', ('.int', 10)), ('.count', ('.between', ('.list', ('.arg', ('.int', 1)), ('.arg', ('.int', 2)))))))))))\n",
    "    ),\n",
    "]"
   ]
  },
  {
   "cell_type": "code",
   "execution_count": 9,
   "metadata": {
    "collapsed": false,
    "scrolled": false
   },
   "outputs": [
    {
     "name": "stdout",
     "output_type": "stream",
     "text": [
      "7615\n",
      "Building list of target candidate ids...\n",
      "Collected 1 unique target candidate ids from 1 explanations.\n",
      "Gathering desired candidates...\n",
      "Found 1/1 desired candidates\n",
      "Linking explanations to candidates...\n",
      "Linked 1/1 explanations\n"
     ]
    }
   ],
   "source": [
    "from snorkel.contrib.babble import link_explanation_candidates\n",
    "\n",
    "candidates = session.query(candidate_class).all()\n",
    "print(len(candidates))\n",
    "explanations = link_explanation_candidates(explanations, candidates)"
   ]
  },
  {
   "cell_type": "code",
   "execution_count": 10,
   "metadata": {
    "collapsed": false,
    "scrolled": false
   },
   "outputs": [
    {
     "name": "stdout",
     "output_type": "stream",
     "text": [
      "10\n"
     ]
    }
   ],
   "source": [
    "parses = semparser.parse(explanations, return_parses=True)\n",
    "print(len(parses))"
   ]
  },
  {
   "cell_type": "code",
   "execution_count": 11,
   "metadata": {
    "collapsed": false,
    "scrolled": false
   },
   "outputs": [
    {
     "name": "stdout",
     "output_type": "stream",
     "text": [
      "(u'cytokine', u'JNK1')\n",
      "These findings demonstrate that the negative regulation of Th2 cytokine production by the JNK1 signaling pathway is essential for generating Th1-polarized immunity against intracellular pathogens, such as Leishmania major.\n",
      "\n",
      "FAIL!\n",
      "return 1 if (any([s.in(text(between([X,Y]))) for s in user_list('prep')]) and ('negative'.in(text(between([X,Y]))) and count(between([X,Y])).(< 10))) else 0\n",
      "('.root', ('.label', ('.bool', True), ('.and', ('.any', ('.map', ('.in', ('.extract_text', ('.between', ('.list', ('.arg', ('.int', 1)), ('.arg', ('.int', 2)))))), ('.user_list', ('.string', u'prep')))), ('.and', ('.call', ('.in', ('.extract_text', ('.between', ('.list', ('.arg', ('.int', 1)), ('.arg', ('.int', 2)))))), ('.string', u'negative')), ('.call', ('.lt', ('.int', 10)), ('.count', ('.between', ('.list', ('.arg', ('.int', 1)), ('.arg', ('.int', 2))))))))))\n",
      "\n",
      "FAIL!\n",
      "return 1 if (any([s.in(text(between([X,Y]))) for s in user_list('prep')]) and ('negative'.(.eq(u) for at least one u in user_list('between')) and count(between([X,Y])).(< 10))) else 0\n",
      "('.root', ('.label', ('.bool', True), ('.and', ('.any', ('.map', ('.in', ('.extract_text', ('.between', ('.list', ('.arg', ('.int', 1)), ('.arg', ('.int', 2)))))), ('.user_list', ('.string', u'prep')))), ('.and', ('.call', ('.composite_or', ('.eq',), ('.user_list', ('.string', u'between'))), ('.string', u'negative')), ('.call', ('.lt', ('.int', 10)), ('.count', ('.between', ('.list', ('.arg', ('.int', 1)), ('.arg', ('.int', 2))))))))))\n",
      "\n",
      "FAIL!\n",
      "return 1 if (sum([s.in(text(between([X,Y]))) for s in user_list('prep')]).(>= 1) and ('negative'.in(text(between([X,Y]))) and count(between([X,Y])).(< 10))) else 0\n",
      "('.root', ('.label', ('.bool', True), ('.and', ('.call', ('.geq', ('.int', 1)), ('.sum', ('.map', ('.in', ('.extract_text', ('.between', ('.list', ('.arg', ('.int', 1)), ('.arg', ('.int', 2)))))), ('.user_list', ('.string', u'prep'))))), ('.and', ('.call', ('.in', ('.extract_text', ('.between', ('.list', ('.arg', ('.int', 1)), ('.arg', ('.int', 2)))))), ('.string', u'negative')), ('.call', ('.lt', ('.int', 10)), ('.count', ('.between', ('.list', ('.arg', ('.int', 1)), ('.arg', ('.int', 2))))))))))\n",
      "\n",
      "FAIL!\n",
      "return 1 if (sum([s.in(text(between([X,Y]))) for s in user_list('prep')]).(>= 1) and ('negative'.(.eq(u) for at least one u in user_list('between')) and count(between([X,Y])).(< 10))) else 0\n",
      "('.root', ('.label', ('.bool', True), ('.and', ('.call', ('.geq', ('.int', 1)), ('.sum', ('.map', ('.in', ('.extract_text', ('.between', ('.list', ('.arg', ('.int', 1)), ('.arg', ('.int', 2)))))), ('.user_list', ('.string', u'prep'))))), ('.and', ('.call', ('.composite_or', ('.eq',), ('.user_list', ('.string', u'between'))), ('.string', u'negative')), ('.call', ('.lt', ('.int', 10)), ('.count', ('.between', ('.list', ('.arg', ('.int', 1)), ('.arg', ('.int', 2))))))))))\n",
      "\n",
      "FAIL!\n",
      "return 1 if (count([w for w in the word(s) between([X,Y])]).(>= 1) and ('negative'.in(text(between([X,Y]))) and count(between([X,Y])).(< 10))) else 0\n",
      "('.root', ('.label', ('.bool', True), ('.and', ('.call', ('.geq', ('.int', 1)), ('.count', ('.filter', ('.between', ('.list', ('.arg', ('.int', 1)), ('.arg', ('.int', 2)))), 'words', '\\\\w+\\\\S*'))), ('.and', ('.call', ('.in', ('.extract_text', ('.between', ('.list', ('.arg', ('.int', 1)), ('.arg', ('.int', 2)))))), ('.string', u'negative')), ('.call', ('.lt', ('.int', 10)), ('.count', ('.between', ('.list', ('.arg', ('.int', 1)), ('.arg', ('.int', 2))))))))))\n",
      "\n",
      "FAIL!\n",
      "return 1 if (count([w for w in the word(s) between([X,Y])]).(>= 1) and ('negative'.(.eq(u) for at least one u in user_list('between')) and count(between([X,Y])).(< 10))) else 0\n",
      "('.root', ('.label', ('.bool', True), ('.and', ('.call', ('.geq', ('.int', 1)), ('.count', ('.filter', ('.between', ('.list', ('.arg', ('.int', 1)), ('.arg', ('.int', 2)))), 'words', '\\\\w+\\\\S*'))), ('.and', ('.call', ('.composite_or', ('.eq',), ('.user_list', ('.string', u'between'))), ('.string', u'negative')), ('.call', ('.lt', ('.int', 10)), ('.count', ('.between', ('.list', ('.arg', ('.int', 1)), ('.arg', ('.int', 2))))))))))\n",
      "\n",
      "FAIL!\n",
      "return 1 if ((any([s.in(text(between([X,Y]))) for s in user_list('prep')]) and 'negative'.in(text(between([X,Y])))) and count(between([X,Y])).(< 10)) else 0\n",
      "('.root', ('.label', ('.bool', True), ('.and', ('.and', ('.any', ('.map', ('.in', ('.extract_text', ('.between', ('.list', ('.arg', ('.int', 1)), ('.arg', ('.int', 2)))))), ('.user_list', ('.string', u'prep')))), ('.call', ('.in', ('.extract_text', ('.between', ('.list', ('.arg', ('.int', 1)), ('.arg', ('.int', 2)))))), ('.string', u'negative'))), ('.call', ('.lt', ('.int', 10)), ('.count', ('.between', ('.list', ('.arg', ('.int', 1)), ('.arg', ('.int', 2)))))))))\n",
      "\n",
      "FAIL!\n",
      "return 1 if ((sum([s.in(text(between([X,Y]))) for s in user_list('prep')]).(>= 1) and 'negative'.in(text(between([X,Y])))) and count(between([X,Y])).(< 10)) else 0\n",
      "('.root', ('.label', ('.bool', True), ('.and', ('.and', ('.call', ('.geq', ('.int', 1)), ('.sum', ('.map', ('.in', ('.extract_text', ('.between', ('.list', ('.arg', ('.int', 1)), ('.arg', ('.int', 2)))))), ('.user_list', ('.string', u'prep'))))), ('.call', ('.in', ('.extract_text', ('.between', ('.list', ('.arg', ('.int', 1)), ('.arg', ('.int', 2)))))), ('.string', u'negative'))), ('.call', ('.lt', ('.int', 10)), ('.count', ('.between', ('.list', ('.arg', ('.int', 1)), ('.arg', ('.int', 2)))))))))\n",
      "\n",
      "FAIL!\n",
      "return 1 if ((count([w for w in the word(s) between([X,Y])]).(>= 1) and 'negative'.in(text(between([X,Y])))) and count(between([X,Y])).(< 10)) else 0\n",
      "('.root', ('.label', ('.bool', True), ('.and', ('.and', ('.call', ('.geq', ('.int', 1)), ('.count', ('.filter', ('.between', ('.list', ('.arg', ('.int', 1)), ('.arg', ('.int', 2)))), 'words', '\\\\w+\\\\S*'))), ('.call', ('.in', ('.extract_text', ('.between', ('.list', ('.arg', ('.int', 1)), ('.arg', ('.int', 2)))))), ('.string', u'negative'))), ('.call', ('.lt', ('.int', 10)), ('.count', ('.between', ('.list', ('.arg', ('.int', 1)), ('.arg', ('.int', 2)))))))))\n",
      "\n",
      "FAIL!\n",
      "return 1 if ((any([s.(.eq(u) for at least one u in user_list('between')) for s in user_list('prep')]) and 'negative'.in(text(between([X,Y])))) and count(between([X,Y])).(< 10)) else 0\n",
      "('.root', ('.label', ('.bool', True), ('.and', ('.and', ('.any', ('.map', ('.composite_or', ('.eq',), ('.user_list', ('.string', u'between'))), ('.user_list', ('.string', u'prep')))), ('.call', ('.in', ('.extract_text', ('.between', ('.list', ('.arg', ('.int', 1)), ('.arg', ('.int', 2)))))), ('.string', u'negative'))), ('.call', ('.lt', ('.int', 10)), ('.count', ('.between', ('.list', ('.arg', ('.int', 1)), ('.arg', ('.int', 2)))))))))\n",
      "\n"
     ]
    }
   ],
   "source": [
    "c = parses[0].explanation.candidate\n",
    "print(c[0].get_span(), c[1].get_span())\n",
    "print(c.get_parent().text)\n",
    "print(\"\")\n",
    "\n",
    "for parse in parses:\n",
    "    if parse.function(parse.explanation.candidate):\n",
    "        print(\"PASS!\")\n",
    "    else:\n",
    "        print(\"FAIL!\")\n",
    "    print(semparser.grammar.translate(parse.semantics))\n",
    "    print(parse.semantics)\n",
    "    print(\"\")"
   ]
  },
  {
   "cell_type": "code",
   "execution_count": 12,
   "metadata": {
    "collapsed": false,
    "scrolled": false
   },
   "outputs": [],
   "source": [
    "# semparser.grammar.print_chart()"
   ]
  },
  {
   "cell_type": "code",
   "execution_count": null,
   "metadata": {
    "collapsed": true
   },
   "outputs": [],
   "source": []
  }
 ],
 "metadata": {
  "kernelspec": {
   "display_name": "Python 2",
   "language": "python",
   "name": "python2"
  },
  "language_info": {
   "codemirror_mode": {
    "name": "ipython",
    "version": 2
   },
   "file_extension": ".py",
   "mimetype": "text/x-python",
   "name": "python",
   "nbconvert_exporter": "python",
   "pygments_lexer": "ipython2",
   "version": "2.7.14"
  }
 },
 "nbformat": 4,
 "nbformat_minor": 2
}
