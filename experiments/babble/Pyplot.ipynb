{
 "cells": [
  {
   "cell_type": "code",
   "execution_count": 1,
   "metadata": {
    "collapsed": true
   },
   "outputs": [],
   "source": [
    "%matplotlib inline"
   ]
  },
  {
   "cell_type": "code",
   "execution_count": 2,
   "metadata": {
    "collapsed": true
   },
   "outputs": [],
   "source": [
    "import matplotlib.pyplot as plt"
   ]
  },
  {
   "cell_type": "code",
   "execution_count": 3,
   "metadata": {
    "collapsed": false
   },
   "outputs": [],
   "source": [
    "# unlabeled = [30, 100, 500, 1000, 2000, 3000,   4000]\n",
    "# spouse    = [0.158, 0.162, 0.189, 0.224, 0.310, 0.370,  0.388]\n",
    "# disease   = [0.352, 0.389, 0.421, 0.426, 0.431, 0.430,  0.432]\n",
    "# protein   = [0.360, 0.362, 0.367, 0.383, 0.419, 0.444,  0.454]\n",
    "# average   = [0.290, 0.305, 0.325, 0.344, 0.401, 0.420,  0.420]"
   ]
  },
  {
   "cell_type": "code",
   "execution_count": 4,
   "metadata": {
    "collapsed": true
   },
   "outputs": [],
   "source": [
    "unlabeled = [30, 100, 1000, 2000, 3000, 4000, 5000]\n",
    "spouse    = [0.158, 0.162, 0.224, 0.310, 0.370,  0.388, 0.420]\n",
    "disease   = [0.352, 0.389, 0.426, 0.431, 0.430,  0.432, 0.426]\n",
    "protein   = [0.360, 0.362, 0.383, 0.419, 0.444,  0.454, 0.474]\n",
    "# average   = [0.290, 0.305, 0.344, 0.401, 0.420,  0.420]"
   ]
  },
  {
   "cell_type": "code",
   "execution_count": 5,
   "metadata": {
    "collapsed": false,
    "scrolled": true
   },
   "outputs": [
    {
     "data": {
      "text/plain": [
       "[<matplotlib.lines.Line2D at 0x11716e790>]"
      ]
     },
     "execution_count": 5,
     "metadata": {},
     "output_type": "execute_result"
    },
    {
     "data": {
      "text/plain": [
       "[<matplotlib.lines.Line2D at 0x11213f450>]"
      ]
     },
     "execution_count": 5,
     "metadata": {},
     "output_type": "execute_result"
    },
    {
     "data": {
      "text/plain": [
       "[<matplotlib.lines.Line2D at 0x11716ee90>]"
      ]
     },
     "execution_count": 5,
     "metadata": {},
     "output_type": "execute_result"
    },
    {
     "data": {
      "text/plain": [
       "<matplotlib.text.Text at 0x1121552d0>"
      ]
     },
     "execution_count": 5,
     "metadata": {},
     "output_type": "execute_result"
    },
    {
     "data": {
      "text/plain": [
       "<matplotlib.text.Text at 0x112155990>"
      ]
     },
     "execution_count": 5,
     "metadata": {},
     "output_type": "execute_result"
    },
    {
     "data": {
      "text/plain": [
       "<matplotlib.legend.Legend at 0x11716eed0>"
      ]
     },
     "execution_count": 5,
     "metadata": {},
     "output_type": "execute_result"
    },
    {
     "data": {
      "image/png": "[encoded data removed]",
      "text/plain": [
       "<matplotlib.figure.Figure at 0x11212b0d0>"
      ]
     },
     "metadata": {},
     "output_type": "display_data"
    }
   ],
   "source": [
    "# red dashes, blue squares and green triangles\n",
    "plt.plot(unlabeled, spouse, 'r')\n",
    "plt.plot(unlabeled, disease, 'g')\n",
    "plt.plot(unlabeled, protein, 'b')\n",
    "\n",
    "plt.xlabel(\"Unlabeled Examples\", fontsize=14, labelpad=10)\n",
    "plt.ylabel(\"F1 Score\", fontsize=14)\n",
    "\n",
    "plt.legend([\"Spouse\", \"Disease\", \"Protein\"], fontsize=14)\n",
    "plt.savefig(\"scaling.pdf\", dpi=600, bbox_inches='tight')\n",
    "plt.show()"
   ]
  },
  {
   "cell_type": "code",
   "execution_count": 6,
   "metadata": {
    "collapsed": false,
    "scrolled": true
   },
   "outputs": [],
   "source": [
    "# fig.savefig(fname, dpi=600, facecolor='w', edgecolor='w',\n",
    "#         orientation='portrait', papertype=None, format=None,\n",
    "#         transparent=False, bbox_inches=None, pad_inches=0.05,\n",
    "#         frameon=None"
   ]
  }
 ],
 "metadata": {
  "kernelspec": {
   "display_name": "Python 2",
   "language": "python",
   "name": "python2"
  },
  "language_info": {
   "codemirror_mode": {
    "name": "ipython",
    "version": 2
   },
   "file_extension": ".py",
   "mimetype": "text/x-python",
   "name": "python",
   "nbconvert_exporter": "python",
   "pygments_lexer": "ipython2",
   "version": "2.7.14"
  }
 },
 "nbformat": 4,
 "nbformat_minor": 2
}
