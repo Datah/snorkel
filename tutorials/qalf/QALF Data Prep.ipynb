{
 "cells": [
  {
   "cell_type": "code",
   "execution_count": 2,
   "metadata": {
    "collapsed": true
   },
   "outputs": [],
   "source": [
    "%load_ext autoreload\n",
    "%autoreload 2"
   ]
  },
  {
   "cell_type": "code",
   "execution_count": 3,
   "metadata": {
    "collapsed": true
   },
   "outputs": [],
   "source": [
    "config = {\n",
    "    'domain': 'spouse',\n",
    "#     'db_name': 'babble_spouse_demo',\n",
    "}"
   ]
  },
  {
   "cell_type": "code",
   "execution_count": 4,
   "metadata": {
    "collapsed": false
   },
   "outputs": [
    {
     "name": "stdout",
     "output_type": "stream",
     "text": [
      "$SNORKELDB = sqlite:///babble_spouse.db\n"
     ]
    }
   ],
   "source": [
    "# Get DB connection string and add to globals\n",
    "# NOTE: $SNORKELDB must be set before any snorkel imports\n",
    "import os\n",
    "\n",
    "default_db_name = 'babble_' + config['domain'] + ('_debug' if config.get('debug', False) else '')\n",
    "DB_NAME = config.get('db_name', default_db_name)\n",
    "if 'postgres' in config and config['postgres']:\n",
    "    DB_TYPE = 'postgres'\n",
    "else:\n",
    "    DB_TYPE = 'sqlite'\n",
    "    DB_NAME += '.db'\n",
    "DB_ADDR = \"localhost:{0}\".format(config['db_port']) if 'db_port' in config else \"\"\n",
    "os.environ['SNORKELDB'] = '{0}://{1}/{2}'.format(DB_TYPE, DB_ADDR, DB_NAME)\n",
    "print(\"$SNORKELDB = {0}\".format(os.environ['SNORKELDB']))"
   ]
  },
  {
   "cell_type": "code",
   "execution_count": 7,
   "metadata": {
    "collapsed": true
   },
   "outputs": [],
   "source": [
    "from snorkel import SnorkelSession\n",
    "from snorkel.models import candidate_subclass\n",
    "\n",
    "session = SnorkelSession()\n",
    "\n",
    "Spouse = candidate_subclass('Spouse', ['person1', 'person2'])\n",
    "candidate_class = Spouse"
   ]
  },
  {
   "cell_type": "code",
   "execution_count": 8,
   "metadata": {
    "collapsed": false
   },
   "outputs": [
    {
     "name": "stdout",
     "output_type": "stream",
     "text": [
      "27688\n"
     ]
    }
   ],
   "source": [
    "candidates = session.query(candidate_class).all()\n",
    "print(len(candidates))"
   ]
  },
  {
   "cell_type": "code",
   "execution_count": 9,
   "metadata": {
    "collapsed": false
   },
   "outputs": [
    {
     "name": "stdout",
     "output_type": "stream",
     "text": [
      "AnnotatorLabels created: 0\n",
      "AnnotatorLabels created: 0\n",
      "AnnotatorLabels created: 0\n"
     ]
    }
   ],
   "source": [
    "from experiments.babble.spouse.utils import load_external_labels\n",
    "\n",
    "DATA_ROOT = os.environ['SNORKELHOME'] + '/experiments/babble/spouse/data/'\n",
    "fpath = DATA_ROOT + 'labels.tsv'\n",
    "# load_external_labels(session, Spouse, annotator_name='gold', path=fpath, splits=[1,2,3])"
   ]
  },
  {
   "cell_type": "markdown",
   "metadata": {},
   "source": [
    "Line: candidate_class, split, candidate_id, span1, span2, gold_label, sentence\n",
    "[entities specified w/ char start, char end]"
   ]
  },
  {
   "cell_type": "code",
   "execution_count": 25,
   "metadata": {
    "collapsed": false
   },
   "outputs": [
    {
     "name": "stdout",
     "output_type": "stream",
     "text": [
      "CPU times: user 1min 17s, sys: 2.78 s, total: 1min 20s\n",
      "Wall time: 1min 21s\n"
     ]
    }
   ],
   "source": [
    "%%time\n",
    "\n",
    "import csv\n",
    "import numpy as np\n",
    "from snorkel.annotations import load_gold_labels\n",
    "\n",
    "fpath = DATA_ROOT + 'qalf.tsv'\n",
    "with open(fpath, 'wb') as csv_file:\n",
    "    csvwriter = csv.writer(csv_file, delimiter='\\t')\n",
    "    headers = ['relation', 'split', 'candidate_id', 'span1', 'span2', 'label', 'sentence']\n",
    "    csvwriter.writerow(headers)\n",
    "    for split in [0, 1, 2]:\n",
    "        print(\"Starting split {}\".format(split))\n",
    "        L_gold_csr = load_gold_labels(session, annotator_name='gold', split=split)\n",
    "        L_gold = np.array(L_gold_csr.todense()).reshape((L_gold_csr.shape[0],))\n",
    "        candidates = [L_gold_csr.get_candidate(session, i) for i in range(L_gold.shape[0])]\n",
    "        for c, label in zip(candidates, L_gold):\n",
    "            line = []\n",
    "            line.append('Spouse')\n",
    "            line.append(split)\n",
    "            line.append(c.get_stable_id())\n",
    "            line.append(':'.join(map(str, [c[0].char_start, c[0].char_end])))\n",
    "            line.append(':'.join(map(str, [c[1].char_start, c[1].char_end])))\n",
    "            line.append(label)\n",
    "            line.append(c.get_parent().text.strip().encode('utf-8'))\n",
    "            csvwriter.writerow(line)"
   ]
  },
  {
   "cell_type": "code",
   "execution_count": null,
   "metadata": {
    "collapsed": true
   },
   "outputs": [],
   "source": []
  }
 ],
 "metadata": {
  "kernelspec": {
   "display_name": "Python 2",
   "language": "python",
   "name": "python2"
  },
  "language_info": {
   "codemirror_mode": {
    "name": "ipython",
    "version": 2
   },
   "file_extension": ".py",
   "mimetype": "text/x-python",
   "name": "python",
   "nbconvert_exporter": "python",
   "pygments_lexer": "ipython2",
   "version": "2.7.13"
  }
 },
 "nbformat": 4,
 "nbformat_minor": 2
}
